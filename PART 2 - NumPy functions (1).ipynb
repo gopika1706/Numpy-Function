{
 "cells": [
  {
   "cell_type": "code",
   "execution_count": 1,
   "id": "862fcf3f",
   "metadata": {},
   "outputs": [],
   "source": [
    "import numpy as np\n",
    "from numpy import random "
   ]
  },
  {
   "cell_type": "code",
   "execution_count": 2,
   "id": "37dee6f1",
   "metadata": {},
   "outputs": [
    {
     "name": "stderr",
     "output_type": "stream",
     "text": [
      "C:\\Users\\DELL\\AppData\\Local\\Temp\\ipykernel_5296\\2965622267.py:2: DeprecationWarning: `np.float` is a deprecated alias for the builtin `float`. To silence this warning, use `float` by itself. Doing this will not modify any behavior and is safe. If you specifically wanted the numpy scalar type, use `np.float64` here.\n",
      "Deprecated in NumPy 1.20; for more details and guidance: https://numpy.org/devdocs/release/1.20.0-notes.html#deprecations\n",
      "  np.identity(3,np.float)\n"
     ]
    },
    {
     "data": {
      "text/plain": [
       "array([[1., 0., 0.],\n",
       "       [0., 1., 0.],\n",
       "       [0., 0., 1.]])"
      ]
     },
     "execution_count": 2,
     "metadata": {},
     "output_type": "execute_result"
    }
   ],
   "source": [
    "#101 - identity()\n",
    "np.identity(3,np.float)"
   ]
  },
  {
   "cell_type": "markdown",
   "id": "4faf673d",
   "metadata": {},
   "source": [
    "* Return the identity matrix"
   ]
  },
  {
   "cell_type": "code",
   "execution_count": 6,
   "id": "29880692",
   "metadata": {},
   "outputs": [
    {
     "data": {
      "text/plain": [
       "array([-2.00000000e+00+0.j,  8.00000000e+00+0.j, -6.00000000e+00+0.j,\n",
       "        4.00000000e+00+0.j,  1.00000000e+00+0.j, -1.77635684e-15+0.j,\n",
       "        3.00000000e+00+0.j,  5.00000000e+00+0.j])"
      ]
     },
     "execution_count": 6,
     "metadata": {},
     "output_type": "execute_result"
    }
   ],
   "source": [
    "#102 - ifft()\n",
    "signal = np.array([-2., 8., -6., 4., 1., 0., 3., 5.])\n",
    "fourier = np.fft.fft(signal)\n",
    "np.fft.ifft(fourier)                                                 # Inverse fourier transform"
   ]
  },
  {
   "cell_type": "markdown",
   "id": "fddd777e",
   "metadata": {},
   "source": [
    "* Compute the one-dimensional inverse discrete Fourier Transform"
   ]
  },
  {
   "cell_type": "code",
   "execution_count": 9,
   "id": "006905cd",
   "metadata": {},
   "outputs": [
    {
     "name": "stdout",
     "output_type": "stream",
     "text": [
      "[2. 4. 6.]\n",
      "[1.+9.j 3.+9.j 5.+9.j]\n"
     ]
    }
   ],
   "source": [
    "#103 - imag()\n",
    "a = np.array([1+2j,3+4j,5+6j])\n",
    "print(a.imag)                                   # display imag value\n",
    "\n",
    "a.imag = 9                                # replace imag value with 9\n",
    "print(a)                               "
   ]
  },
  {
   "cell_type": "markdown",
   "id": "3836da7f",
   "metadata": {},
   "source": [
    "* Return the imaginary part of the complex argument."
   ]
  },
  {
   "cell_type": "code",
   "execution_count": 10,
   "id": "ee7a3309",
   "metadata": {},
   "outputs": [
    {
     "name": "stdout",
     "output_type": "stream",
     "text": [
      "(slice(2, 4, None), Ellipsis, 4, slice(None, None, -1))\n"
     ]
    }
   ],
   "source": [
    "#104 - index_exp[]\n",
    "myslice = np.index_exp[2:4,...,4,::-1]                             # myslice could now be passed to a function, for example.\n",
    "print(myslice)"
   ]
  },
  {
   "cell_type": "markdown",
   "id": "761d5e87",
   "metadata": {},
   "source": [
    "* The exp function in NumPy is used to compute the exponent of all values present in the given array. "
   ]
  },
  {
   "cell_type": "code",
   "execution_count": 12,
   "id": "3faa4bee",
   "metadata": {},
   "outputs": [
    {
     "data": {
      "text/plain": [
       "array([[[0, 0, 0],\n",
       "        [1, 1, 1]],\n",
       "\n",
       "       [[0, 1, 2],\n",
       "        [0, 1, 2]]])"
      ]
     },
     "execution_count": 12,
     "metadata": {},
     "output_type": "execute_result"
    }
   ],
   "source": [
    "#105 - indices\n",
    "np.indices((2,3))"
   ]
  },
  {
   "cell_type": "markdown",
   "id": "8e8716b0",
   "metadata": {},
   "source": [
    "* Array indexing is the same as accessing an array element. You can access an array element by referring to its index number. The indexes in NumPy arrays start with 0, meaning that the first element has index 0, and the second has index 1 etc."
   ]
  },
  {
   "cell_type": "code",
   "execution_count": 25,
   "id": "55b221d6",
   "metadata": {},
   "outputs": [
    {
     "name": "stdout",
     "output_type": "stream",
     "text": [
      "[ True  True False]\n"
     ]
    },
    {
     "data": {
      "text/plain": [
       "array([False, False,  True])"
      ]
     },
     "execution_count": 25,
     "metadata": {},
     "output_type": "execute_result"
    }
   ],
   "source": [
    "#106 - inf\n",
    "x = np.array([2,1,np.inf])                      # inf = infinite = number too large to represent, machine dependent\n",
    "print(np.isfinite(x))                            # show which elements are not nan/inf/-inf - finite values\n",
    "np.isinf(x)                                       # show which elements are inf/-inf -  infinite avlues"
   ]
  },
  {
   "cell_type": "markdown",
   "id": "2b0e61c8",
   "metadata": {},
   "source": [
    "* returns a boolean value if the value is positive or negative infinity"
   ]
  },
  {
   "cell_type": "code",
   "execution_count": 24,
   "id": "278881ad",
   "metadata": {},
   "outputs": [
    {
     "data": {
      "text/plain": [
       "140"
      ]
     },
     "execution_count": 24,
     "metadata": {},
     "output_type": "execute_result"
    }
   ],
   "source": [
    "#107 - inner\n",
    "x = np.array([1,2,3])\n",
    "y = np.array([10,20,30])\n",
    "np.inner(x,y)                                      # 1x10+2x20+3x30 = 140\n",
    "  "
   ]
  },
  {
   "cell_type": "markdown",
   "id": "81e474ff",
   "metadata": {},
   "source": [
    "* sum of products of 2 arrays"
   ]
  },
  {
   "cell_type": "code",
   "execution_count": 26,
   "id": "304cd968",
   "metadata": {},
   "outputs": [
    {
     "data": {
      "text/plain": [
       "array([10, 50, 20, 30, 50, 40])"
      ]
     },
     "execution_count": 26,
     "metadata": {},
     "output_type": "execute_result"
    }
   ],
   "source": [
    "#108 - insert\n",
    "a = np.array([10,20,30,40])\n",
    "np.insert(a,[1,3],50)                              # insert value 50 before elements [1] and [3]\n"
   ]
  },
  {
   "cell_type": "markdown",
   "id": "77148813",
   "metadata": {},
   "source": [
    "* Insert values along the given axis before the given indices."
   ]
  },
  {
   "cell_type": "code",
   "execution_count": 30,
   "id": "4a4f8e07",
   "metadata": {},
   "outputs": [
    {
     "name": "stdout",
     "output_type": "stream",
     "text": [
      "[[3 1 5]\n",
      " [1 0 8]\n",
      " [2 1 4]]\n",
      "[[ 1.14285714 -0.14285714 -1.14285714]\n",
      " [-1.71428571 -0.28571429  2.71428571]\n",
      " [-0.14285714  0.14285714  0.14285714]]\n"
     ]
    }
   ],
   "source": [
    "#109 - inv\n",
    "a = np.array([[3,1,5],[1,0,8],[2,1,4]])\n",
    "print(a)\n",
    "inva = np.linalg.inv(a)                                        # Inverse matrix\n",
    "print(inva)"
   ]
  },
  {
   "cell_type": "markdown",
   "id": "1ecb202d",
   "metadata": {},
   "source": [
    "* Compute the (multiplicative) inverse of a matrix.\n",
    "*  numpy.linalg.inv() function to calculate the inverse of a matrix. The inverse of a matrix is such that if it is multiplied by the original matrix, it results in identity matrix."
   ]
  },
  {
   "cell_type": "code",
   "execution_count": 31,
   "id": "8560b98f",
   "metadata": {},
   "outputs": [
    {
     "data": {
      "text/plain": [
       "array([False, False,  True])"
      ]
     },
     "execution_count": 31,
     "metadata": {},
     "output_type": "execute_result"
    }
   ],
   "source": [
    "#110 - iscomplex\n",
    "a = np.array([1,2,3.j])\n",
    "np.iscomplex(a)"
   ]
  },
  {
   "cell_type": "markdown",
   "id": "d24f6395",
   "metadata": {},
   "source": [
    "* Returns a bool array, where True if input element is complex."
   ]
  },
  {
   "cell_type": "code",
   "execution_count": 32,
   "id": "04b6c048",
   "metadata": {},
   "outputs": [
    {
     "data": {
      "text/plain": [
       "True"
      ]
     },
     "execution_count": 32,
     "metadata": {},
     "output_type": "execute_result"
    }
   ],
   "source": [
    "#111 - iscomplexobj\n",
    "a = np.array([1,2,3.j])\n",
    "np.iscomplexobj(a)"
   ]
  },
  {
   "cell_type": "markdown",
   "id": "3037a7f8",
   "metadata": {},
   "source": [
    "* return true if atleast one element in the array is a complex number"
   ]
  },
  {
   "cell_type": "code",
   "execution_count": 34,
   "id": "f240de2a",
   "metadata": {},
   "outputs": [
    {
     "name": "stdout",
     "output_type": "stream",
     "text": [
      "<class 'int'>\n"
     ]
    },
    {
     "data": {
      "text/plain": [
       "3"
      ]
     },
     "execution_count": 34,
     "metadata": {},
     "output_type": "execute_result"
    }
   ],
   "source": [
    "#112 - item\n",
    "a = np.array([5])\n",
    "print(type(a.item()))\n",
    "\n",
    "b = np.array([2,3,4])\n",
    "b[1].item()                           # Conversion of 2nd element to Python scalar"
   ]
  },
  {
   "cell_type": "markdown",
   "id": "1df007dd",
   "metadata": {},
   "source": [
    "* item() - converts an element of array to standard pyhton scalar\n"
   ]
  },
  {
   "cell_type": "code",
   "execution_count": 37,
   "id": "077042ab",
   "metadata": {},
   "outputs": [
    {
     "name": "stdout",
     "output_type": "stream",
     "text": [
      "[[0 1 2]\n",
      " [3 4 5]\n",
      " [6 7 8]]\n",
      "(array([[0],\n",
      "       [1],\n",
      "       [2]]), array([[1, 2, 0]]))\n"
     ]
    }
   ],
   "source": [
    "#113 - ix_\n",
    "a = np.arange(9).reshape(3,3)\n",
    "print(a)\n",
    "\n",
    "indices = np.ix_([0,1,2],[1,2,0])                  # trick to be used with array broadcasting\n",
    "print(indices)"
   ]
  },
  {
   "cell_type": "markdown",
   "id": "c8447c15",
   "metadata": {},
   "source": [
    "*  construct an open mesh from multiple sequences. This function takes N 1-D sequences and returns N outputs with N dimensions each, such that the shape is 1 in all but one dimension and the dimension with the non-unit shape value cycles through all N dimensions"
   ]
  },
  {
   "cell_type": "code",
   "execution_count": 38,
   "id": "17468664",
   "metadata": {},
   "outputs": [
    {
     "data": {
      "text/plain": [
       "array([5, 0, 1, 3, 2, 4], dtype=int64)"
      ]
     },
     "execution_count": 38,
     "metadata": {},
     "output_type": "execute_result"
    }
   ],
   "source": [
    "#114 - lexsort\n",
    "serialnr = np.array([1023, 5202, 6230, 1671, 1682, 5241])\n",
    "height = np.array([40., 42., 60., 60., 98., 40.])\n",
    "width = np.array([50., 20., 70., 60., 15., 30.])\n",
    "\n",
    "# We want to sort the serial numbers with increasing height, _AND_\n",
    "# serial numbers with equal heights should be sorted with increasing width.\n",
    "\n",
    "indices = np.lexsort(keys = (width, height))                                     # mind the order!\n",
    "indices"
   ]
  },
  {
   "cell_type": "markdown",
   "id": "62f084b6",
   "metadata": {},
   "source": [
    "* return the index of elements of serial number according to sorting of elements in the height,serial numbers with equal heights should be sorted with increasing width."
   ]
  },
  {
   "cell_type": "code",
   "execution_count": 41,
   "id": "52bca632",
   "metadata": {},
   "outputs": [
    {
     "data": {
      "text/plain": [
       "array([0.        , 0.55555556, 1.11111111, 1.66666667, 2.22222222,\n",
       "       2.77777778, 3.33333333, 3.88888889, 4.44444444, 5.        ])"
      ]
     },
     "execution_count": 41,
     "metadata": {},
     "output_type": "execute_result"
    }
   ],
   "source": [
    "#115 - linspace\n",
    "np.linspace(0,5,num=10)                                     # 6 evenly spaced numbers between 0 and 5 incl."
   ]
  },
  {
   "cell_type": "markdown",
   "id": "ab50581c",
   "metadata": {},
   "source": [
    "* return the total of elements 10 in an array between 0-5"
   ]
  },
  {
   "cell_type": "code",
   "execution_count": 51,
   "id": "eca456a1",
   "metadata": {},
   "outputs": [
    {
     "data": {
      "text/plain": [
       "(array([], dtype=float64), array([2., 4., 6.]))"
      ]
     },
     "execution_count": 51,
     "metadata": {},
     "output_type": "execute_result"
    }
   ],
   "source": [
    "#116 - loadtxt\n",
    "data = np.loadtxt(\"myfile.txt\")                        # myfile.txt contains 4 columns of numbers\n",
    "t,z = data[:0], data[:3]                          # data is 2D numpy array\n",
    "t,z"
   ]
  },
  {
   "cell_type": "markdown",
   "id": "47a65aef",
   "metadata": {},
   "source": [
    "* Load data from a text file. Each row in the text file must have the same number of values."
   ]
  },
  {
   "cell_type": "code",
   "execution_count": 53,
   "id": "37a2070a",
   "metadata": {},
   "outputs": [
    {
     "data": {
      "text/plain": [
       "array([False, False, False,  True])"
      ]
     },
     "execution_count": 53,
     "metadata": {},
     "output_type": "execute_result"
    }
   ],
   "source": [
    "#117 - logical_and\n",
    "np.logical_and(np.array([0,0,1,1]), np.array([0,1,0,1]))"
   ]
  },
  {
   "cell_type": "markdown",
   "id": "36363c4d",
   "metadata": {},
   "source": [
    "* Compute the truth value(1&1) of x1 AND x2 element-wise"
   ]
  },
  {
   "cell_type": "code",
   "execution_count": 55,
   "id": "f245b439",
   "metadata": {},
   "outputs": [
    {
     "data": {
      "text/plain": [
       "array([ True, False])"
      ]
     },
     "execution_count": 55,
     "metadata": {},
     "output_type": "execute_result"
    }
   ],
   "source": [
    "#118 - logical_not\n",
    "np.logical_not(np.array([0,1]))\n",
    "np.logical_not(np.array([False,True]))"
   ]
  },
  {
   "cell_type": "markdown",
   "id": "4c560b65",
   "metadata": {},
   "source": [
    "* Compute the truth value of NOT x element-wise."
   ]
  },
  {
   "cell_type": "code",
   "execution_count": 56,
   "id": "1f91b1c7",
   "metadata": {},
   "outputs": [
    {
     "data": {
      "text/plain": [
       "array([False,  True,  True,  True])"
      ]
     },
     "execution_count": 56,
     "metadata": {},
     "output_type": "execute_result"
    }
   ],
   "source": [
    "#119 - logical_or\n",
    "np.logical_or(np.array([0,0,1,1]), np.array([0,1,0,1]))"
   ]
  },
  {
   "cell_type": "markdown",
   "id": "0a5d2cae",
   "metadata": {},
   "source": [
    "* Compute the truth value(atleast one true is true) of x1 OR x2 element-wise"
   ]
  },
  {
   "cell_type": "code",
   "execution_count": 58,
   "id": "6d81fcc6",
   "metadata": {},
   "outputs": [
    {
     "data": {
      "text/plain": [
       "array([False,  True,  True, False])"
      ]
     },
     "execution_count": 58,
     "metadata": {},
     "output_type": "execute_result"
    }
   ],
   "source": [
    "#120 - logical_xor\n",
    "np.logical_xor(np.array([0,0,1,1]), np.array([0,1,0,1]))"
   ]
  },
  {
   "cell_type": "code",
   "execution_count": 60,
   "id": "eb228285",
   "metadata": {},
   "outputs": [
    {
     "data": {
      "text/plain": [
       "array([1.00000000e-02, 6.81292069e-02, 4.64158883e-01, 3.16227766e+00,\n",
       "       2.15443469e+01, 1.46779927e+02, 1.00000000e+03])"
      ]
     },
     "execution_count": 60,
     "metadata": {},
     "output_type": "execute_result"
    }
   ],
   "source": [
    "#121 - logspace\n",
    "np.logspace(-2, 3, num = 7)                          # 6 evenly spaced pts on a logarithmic scale, from 10^{-2} to 10^3 incl"
   ]
  },
  {
   "cell_type": "markdown",
   "id": "4a8152f7",
   "metadata": {},
   "source": [
    "* return the total of elements 7 in an array between 10^{-2} to 10^3"
   ]
  },
  {
   "cell_type": "code",
   "execution_count": 62,
   "id": "b273c650",
   "metadata": {},
   "outputs": [
    {
     "name": "stdout",
     "output_type": "stream",
     "text": [
      "[[1 3 4]\n",
      " [5 6 9]]\n"
     ]
    },
    {
     "data": {
      "text/plain": [
       "matrix([[1, 2],\n",
       "        [3, 4]])"
      ]
     },
     "execution_count": 62,
     "metadata": {},
     "output_type": "execute_result"
    }
   ],
   "source": [
    "#123,124- mat,matrix\n",
    "A=np.mat('1 3 4; 5 6 9')                                # matrices are always 2-dimensional\n",
    "print(A)\n",
    "\n",
    "a = np.array([[1,2],[3,4]])\n",
    "m = np.mat(a)                            # convert 2-d array to matrix\n",
    "m"
   ]
  },
  {
   "cell_type": "markdown",
   "id": "62fbe0cf",
   "metadata": {},
   "source": [
    "* Interpret the input as a matrix.\n"
   ]
  },
  {
   "cell_type": "code",
   "execution_count": 63,
   "id": "97e6bc6d",
   "metadata": {},
   "outputs": [
    {
     "data": {
      "text/plain": [
       "array([3, 2, 5])"
      ]
     },
     "execution_count": 63,
     "metadata": {},
     "output_type": "execute_result"
    }
   ],
   "source": [
    "#125,126 - max,maximum\n",
    "a = np.array([1,0,5])\n",
    "b = np.array([3,2,4])\n",
    "np.maximum(a,b)                              # element-by-element comparison"
   ]
  },
  {
   "cell_type": "markdown",
   "id": "4053a6d0",
   "metadata": {},
   "source": [
    "* returns the maximum value from 2 array, element wise"
   ]
  },
  {
   "cell_type": "code",
   "execution_count": 65,
   "id": "0f2821cf",
   "metadata": {},
   "outputs": [
    {
     "data": {
      "text/plain": [
       "array([False,  True, False])"
      ]
     },
     "execution_count": 65,
     "metadata": {},
     "output_type": "execute_result"
    }
   ],
   "source": [
    "#126 - nan\n",
    "x = np.array([2, np.nan, 1])\n",
    "np.isnan(x)                                    # show which elements are nan\n",
    " "
   ]
  },
  {
   "cell_type": "markdown",
   "id": "6d713064",
   "metadata": {},
   "source": [
    "* returns boolean, true for nan "
   ]
  },
  {
   "cell_type": "code",
   "execution_count": 72,
   "id": "9fae23dc",
   "metadata": {},
   "outputs": [
    {
     "name": "stdout",
     "output_type": "stream",
     "text": [
      "[[10 11 12]\n",
      " [13 14 15]\n",
      " [16 17 18]]\n",
      "(0, 0) 10\n",
      "(0, 1) 11\n",
      "(0, 2) 12\n",
      "(1, 0) 13\n",
      "(1, 1) 14\n",
      "(1, 2) 15\n",
      "(2, 0) 16\n",
      "(2, 1) 17\n",
      "(2, 2) 18\n"
     ]
    }
   ],
   "source": [
    "#127 - ndenumerate\n",
    "a = np.arange(9).reshape(3,3) + 10\n",
    "print(a)\n",
    "\n",
    "b = np.ndenumerate(a)\n",
    "for position,value in b: \n",
    "    print(position,value)                           # position is the N-dimensional index"
   ]
  },
  {
   "cell_type": "markdown",
   "id": "f0545778",
   "metadata": {},
   "source": [
    "* Return an iterator yielding pairs of array coordinates(index) and values"
   ]
  },
  {
   "cell_type": "code",
   "execution_count": 75,
   "id": "f77127f7",
   "metadata": {},
   "outputs": [
    {
     "data": {
      "text/plain": [
       "2"
      ]
     },
     "execution_count": 75,
     "metadata": {},
     "output_type": "execute_result"
    }
   ],
   "source": [
    "#128 - ndim\n",
    "a =np.arange(12).reshape(3,4)\n",
    "np.ndim(a)"
   ]
  },
  {
   "cell_type": "markdown",
   "id": "8ae315fc",
   "metadata": {},
   "source": [
    "* Return the number of dimensions of an array"
   ]
  },
  {
   "cell_type": "code",
   "execution_count": 78,
   "id": "fb7c9dcc",
   "metadata": {
    "scrolled": true
   },
   "outputs": [
    {
     "name": "stdout",
     "output_type": "stream",
     "text": [
      "(0, 0, 0)\n",
      "(0, 0, 1)\n",
      "(0, 1, 0)\n",
      "(0, 1, 1)\n",
      "(0, 2, 0)\n",
      "(0, 2, 1)\n",
      "(1, 0, 0)\n",
      "(1, 0, 1)\n",
      "(1, 1, 0)\n",
      "(1, 1, 1)\n",
      "(1, 2, 0)\n",
      "(1, 2, 1)\n",
      "(2, 0, 0)\n",
      "(2, 0, 1)\n",
      "(2, 1, 0)\n",
      "(2, 1, 1)\n",
      "(2, 2, 0)\n",
      "(2, 2, 1)\n",
      "(3, 0, 0)\n",
      "(3, 0, 1)\n",
      "(3, 1, 0)\n",
      "(3, 1, 1)\n",
      "(3, 2, 0)\n",
      "(3, 2, 1)\n"
     ]
    }
   ],
   "source": [
    "#129 - ndindex\n",
    "for index in np.ndindex(4,3,2):\n",
    "        print(index)"
   ]
  },
  {
   "cell_type": "markdown",
   "id": "02aba1a6",
   "metadata": {},
   "source": [
    "* np.ndindex() routine provides us an iterator that returns the indices of elements in an N-dimensional array"
   ]
  },
  {
   "cell_type": "code",
   "execution_count": 83,
   "id": "42fa88e4",
   "metadata": {},
   "outputs": [
    {
     "name": "stdout",
     "output_type": "stream",
     "text": [
      "[0 1 2]\n",
      "[[0]\n",
      " [1]\n",
      " [2]]\n"
     ]
    },
    {
     "data": {
      "text/plain": [
       "array([[[0]],\n",
       "\n",
       "       [[1]],\n",
       "\n",
       "       [[2]]])"
      ]
     },
     "execution_count": 83,
     "metadata": {},
     "output_type": "execute_result"
    }
   ],
   "source": [
    "#130 - newaxis\n",
    "x = np.arange(3)\n",
    "print(x)\n",
    "print(x[:,np.newaxis])                                      # add a new dimension/axis\n",
    "x[:,np.newaxis,np.newaxis]                                  # add two new dimensions/axes"
   ]
  },
  {
   "cell_type": "markdown",
   "id": "fc8b1855",
   "metadata": {},
   "source": [
    "*  is used to increase the dimension of the existing array by one more dimension, when used once"
   ]
  },
  {
   "cell_type": "code",
   "execution_count": 84,
   "id": "3dfb1849",
   "metadata": {},
   "outputs": [
    {
     "data": {
      "text/plain": [
       "(array([0, 2, 3, 6], dtype=int64),)"
      ]
     },
     "execution_count": 84,
     "metadata": {},
     "output_type": "execute_result"
    }
   ],
   "source": [
    "#131 - nonzero\n",
    "x = np.array([1,0,2,-1,0,0,8])\n",
    "indices = np.nonzero(x)                                      # find the indices of the nonzero elements\n",
    "indices"
   ]
  },
  {
   "cell_type": "markdown",
   "id": "a8136d16",
   "metadata": {},
   "source": [
    "* rturn the index of the non zero element "
   ]
  },
  {
   "cell_type": "code",
   "execution_count": 86,
   "id": "3bbaca0f",
   "metadata": {},
   "outputs": [
    {
     "data": {
      "text/plain": [
       "array([[0],\n",
       "       [1],\n",
       "       [2]])"
      ]
     },
     "execution_count": 86,
     "metadata": {},
     "output_type": "execute_result"
    }
   ],
   "source": [
    "#132 - ogrid\n",
    "x,y = np.ogrid[0:3,0:3]                               # x and y are useful to use with broadcasting rules\n",
    "x"
   ]
  },
  {
   "cell_type": "code",
   "execution_count": 87,
   "id": "399bff15",
   "metadata": {},
   "outputs": [
    {
     "data": {
      "text/plain": [
       "array([[0, 1, 2]])"
      ]
     },
     "execution_count": 87,
     "metadata": {},
     "output_type": "execute_result"
    }
   ],
   "source": [
    "y"
   ]
  },
  {
   "cell_type": "markdown",
   "id": "2ae2ad51",
   "metadata": {},
   "source": [
    "* NumPy ogrid is one of its functions that stands for the open grid. It helps us by providing a way to act on a particular pixel of an image.\n",
    "*  returns an open multi-dimensional “meshgrid"
   ]
  },
  {
   "cell_type": "code",
   "execution_count": 88,
   "id": "c4a4776c",
   "metadata": {},
   "outputs": [
    {
     "data": {
      "text/plain": [
       "3.3333333333333335"
      ]
     },
     "execution_count": 88,
     "metadata": {},
     "output_type": "execute_result"
    }
   ],
   "source": [
    "#133 - mean\n",
    "a = np.array([1,2,7])\n",
    "a.mean()"
   ]
  },
  {
   "cell_type": "markdown",
   "id": "b15557e7",
   "metadata": {},
   "source": [
    "* average of the elements"
   ]
  },
  {
   "cell_type": "code",
   "execution_count": 89,
   "id": "95315508",
   "metadata": {},
   "outputs": [
    {
     "data": {
      "text/plain": [
       "3.0"
      ]
     },
     "execution_count": 89,
     "metadata": {},
     "output_type": "execute_result"
    }
   ],
   "source": [
    "#134 - median\n",
    "a = np.array([1,2,3,4,9])\n",
    "np.median(a)"
   ]
  },
  {
   "cell_type": "markdown",
   "id": "c2852c8b",
   "metadata": {},
   "source": [
    "* evaluates median of the array"
   ]
  },
  {
   "cell_type": "code",
   "execution_count": 92,
   "id": "7977a33b",
   "metadata": {},
   "outputs": [
    {
     "name": "stdout",
     "output_type": "stream",
     "text": [
      "[[[1 1 1]\n",
      "  [2 2 2]]\n",
      "\n",
      " [[2 3 4]\n",
      "  [2 3 4]]]\n"
     ]
    }
   ],
   "source": [
    "#135 - mgrid\n",
    "m = np.mgrid[1:3,2:5]                                 # rectangular mesh grid with x-values [1,2] and y-values [2,3,4]\n",
    "print(m)"
   ]
  },
  {
   "cell_type": "markdown",
   "id": "122b1236",
   "metadata": {},
   "source": [
    "* returns a dense multi-dimensional \"meshgrid"
   ]
  },
  {
   "cell_type": "code",
   "execution_count": 93,
   "id": "b14e4aac",
   "metadata": {},
   "outputs": [
    {
     "data": {
      "text/plain": [
       "10"
      ]
     },
     "execution_count": 93,
     "metadata": {},
     "output_type": "execute_result"
    }
   ],
   "source": [
    "#135 - min\n",
    "a = np.array([[10,50,30],[60,20,40]])\n",
    "a.min()"
   ]
  },
  {
   "cell_type": "markdown",
   "id": "3051942d",
   "metadata": {},
   "source": [
    "* min value in the array"
   ]
  },
  {
   "cell_type": "code",
   "execution_count": 97,
   "id": "64148660",
   "metadata": {},
   "outputs": [
    {
     "data": {
      "text/plain": [
       "array([1, 0, 4])"
      ]
     },
     "execution_count": 97,
     "metadata": {},
     "output_type": "execute_result"
    }
   ],
   "source": [
    "#135 - minimum\n",
    "a = np.array([1,0,5])\n",
    "b = np.array([3,2,4])\n",
    "np.minimum(a,b)                                 # element-by-element comparison"
   ]
  },
  {
   "cell_type": "markdown",
   "id": "f4b30e64",
   "metadata": {},
   "source": [
    "* returns the minimum value from 2 array, element wise"
   ]
  },
  {
   "cell_type": "code",
   "execution_count": 98,
   "id": "8da11981",
   "metadata": {},
   "outputs": [
    {
     "data": {
      "text/plain": [
       "array([12, 42])"
      ]
     },
     "execution_count": 98,
     "metadata": {},
     "output_type": "execute_result"
    }
   ],
   "source": [
    "#136 - multiply\n",
    "np.multiply(np.array([3,6]), np.array([4,7]))"
   ]
  },
  {
   "cell_type": "markdown",
   "id": "ebc4ce95",
   "metadata": {},
   "source": [
    "* Multiply arguments element-wise"
   ]
  },
  {
   "cell_type": "code",
   "execution_count": 99,
   "id": "975ec186",
   "metadata": {},
   "outputs": [
    {
     "data": {
      "text/plain": [
       "array([[1, 1, 1],\n",
       "       [1, 1, 1]])"
      ]
     },
     "execution_count": 99,
     "metadata": {},
     "output_type": "execute_result"
    }
   ],
   "source": [
    "#141 - ones_like\n",
    "a = np.array([[1,2,3],[4,5,6]])\n",
    "np.ones_like(a)                         # ones initialised array with the same shape and datatype as 'a'"
   ]
  },
  {
   "cell_type": "markdown",
   "id": "dc31798f",
   "metadata": {},
   "source": [
    "* Return an array of ones with the same shape and type as a given input array"
   ]
  },
  {
   "cell_type": "code",
   "execution_count": 100,
   "id": "6d465a14",
   "metadata": {},
   "outputs": [
    {
     "data": {
      "text/plain": [
       "array([[10, 20, 30],\n",
       "       [20, 40, 60],\n",
       "       [30, 60, 90]])"
      ]
     },
     "execution_count": 100,
     "metadata": {},
     "output_type": "execute_result"
    }
   ],
   "source": [
    "#142 - outer\n",
    "x = np.array([1,2,3])\n",
    "y = np.array([10,20,30])\n",
    "np.outer(x,y)                                               # outer product"
   ]
  },
  {
   "cell_type": "markdown",
   "id": "52d94647",
   "metadata": {},
   "source": [
    "* compute the outer level of products like vectors, arrays, etc."
   ]
  },
  {
   "cell_type": "code",
   "execution_count": 104,
   "id": "74448206",
   "metadata": {},
   "outputs": [
    {
     "data": {
      "text/plain": [
       "array([1, 2, 0, 3])"
      ]
     },
     "execution_count": 104,
     "metadata": {},
     "output_type": "execute_result"
    }
   ],
   "source": [
    "#143 - permutation\n",
    "np.random.permutation(4)                               # permutation of integers from 0 to 3"
   ]
  },
  {
   "cell_type": "markdown",
   "id": "7b9d9e96",
   "metadata": {},
   "source": [
    "* return a permuted range"
   ]
  },
  {
   "cell_type": "code",
   "execution_count": 107,
   "id": "c505bd13",
   "metadata": {},
   "outputs": [
    {
     "name": "stdout",
     "output_type": "stream",
     "text": [
      "[0.00000000e+00 0.00000000e+00 0.00000000e+00 0.00000000e+00\n",
      " 0.00000000e+00 0.00000000e+00 0.00000000e+00 0.00000000e+00\n",
      " 0.00000000e+00 0.00000000e+00 1.00000000e+00 8.10000000e-01\n",
      " 6.40000000e-01 4.90000000e-01 3.60000000e-01 2.50000000e-01\n",
      " 1.60000000e-01 9.00000000e-02 4.00000000e-02 1.00000000e-02\n",
      " 3.15544362e-30 1.00000000e-02 4.00000000e-02 9.00000000e-02\n",
      " 1.60000000e-01 2.50000000e-01 3.60000000e-01 4.90000000e-01\n",
      " 6.40000000e-01 8.10000000e-01 2.00000000e+00 2.20000000e+00\n",
      " 2.40000000e+00 2.60000000e+00 2.80000000e+00 3.00000000e+00\n",
      " 3.20000000e+00 3.40000000e+00 3.60000000e+00 3.80000000e+00\n",
      " 4.00000000e+00 4.20000000e+00 4.40000000e+00 4.60000000e+00\n",
      " 4.80000000e+00 5.00000000e+00 5.20000000e+00 5.40000000e+00\n",
      " 5.60000000e+00 5.80000000e+00]\n"
     ]
    }
   ],
   "source": [
    "#144 - piecewise\n",
    "f1 = lambda x: x*x\n",
    "f2 = lambda x: 2*x\n",
    "x = np.arange(-2.,3.,0.1)\n",
    "condition = (x>1)&(x<2)                                                   # boolean array\n",
    "y = np.piecewise(x,condition, [f1,1.])                                       # if condition is true, return f1, otherwise 1.\n",
    "y = np.piecewise(x, np.fabs(x)<=1, [f1,0]) + np.piecewise(x, x>1, [f2,0])          # 0. in ]-inf,-1[, f1 in [-1,+1], f2 in ]+1,+inf[\n",
    "print(y)"
   ]
  },
  {
   "cell_type": "markdown",
   "id": "792ee9d2",
   "metadata": {},
   "source": [
    "* Given a set of conditions and corresponding functions, evaluate each\n",
    "function on the input data wherever its condition is true.\n"
   ]
  },
  {
   "cell_type": "code",
   "execution_count": 109,
   "id": "2c9b6b9f",
   "metadata": {},
   "outputs": [
    {
     "name": "stdout",
     "output_type": "stream",
     "text": [
      "[[-1.33333333  1.08333333]\n",
      " [-0.33333333  0.33333333]\n",
      " [ 0.66666667 -0.41666667]]\n"
     ]
    }
   ],
   "source": [
    "#145 - pinv\n",
    "A = np.array([[1., 3., 5.],[2., 4., 6.]])\n",
    "b = np.array([1., 3.])\n",
    "\n",
    "# Question: find x such that ||A*x-b|| is minimal\n",
    "# Answer: x = pinvA * b, with pinvA the pseudo-inverse of A\n",
    "\n",
    "pinvA = np.linalg.pinv(A)\n",
    "print(pinvA)"
   ]
  },
  {
   "cell_type": "markdown",
   "id": "2ae2fe8f",
   "metadata": {},
   "source": [
    "* Compute the pseudo-inverse of a matrix."
   ]
  },
  {
   "cell_type": "code",
   "execution_count": 113,
   "id": "bcbf6776",
   "metadata": {},
   "outputs": [
    {
     "data": {
      "text/plain": [
       "array([[1, 0, 0],\n",
       "       [0, 2, 0]])"
      ]
     },
     "execution_count": 113,
     "metadata": {},
     "output_type": "execute_result"
    }
   ],
   "source": [
    "#146 - poisson\n",
    "np.random.poisson(lam=0.5, size=(2,3))                  # poisson distribution lambda=0.5"
   ]
  },
  {
   "cell_type": "markdown",
   "id": "2d16df58",
   "metadata": {},
   "source": [
    "* Draw samples from a Poisson distribution.\n",
    "* The Poisson distribution is the limit of the binomial distribution\n",
    "for large N"
   ]
  },
  {
   "cell_type": "code",
   "execution_count": 114,
   "id": "243356f6",
   "metadata": {},
   "outputs": [
    {
     "data": {
      "text/plain": [
       "poly1d([ 1., -5.,  6.])"
      ]
     },
     "execution_count": 114,
     "metadata": {},
     "output_type": "execute_result"
    }
   ],
   "source": [
    "#147 - poly1d\n",
    "p1 = np.poly1d([2,3],r=1)                           # specify polynomial by its roots\n",
    "p1"
   ]
  },
  {
   "cell_type": "markdown",
   "id": "dd8220f0",
   "metadata": {},
   "source": [
    "* returns the polynomial by its roots([2,3])"
   ]
  },
  {
   "cell_type": "code",
   "execution_count": 117,
   "id": "587e9c8e",
   "metadata": {},
   "outputs": [
    {
     "data": {
      "text/plain": [
       "array([1., 2., 3.])"
      ]
     },
     "execution_count": 117,
     "metadata": {},
     "output_type": "execute_result"
    }
   ],
   "source": [
    "#148 - polyfit\n",
    "x = np.array([1,2,3,4,5])\n",
    "y = np.array([6, 11, 18, 27, 38])\n",
    "np.polyfit(x,y,2)                           # fit a 2nd degree polynomial to the data, result is x**2 + 2x + 3"
   ]
  },
  {
   "cell_type": "markdown",
   "id": "2198b9c7",
   "metadata": {},
   "source": [
    "* least squares polynomial fit."
   ]
  },
  {
   "cell_type": "code",
   "execution_count": 118,
   "id": "1a3f2b3b",
   "metadata": {},
   "outputs": [
    {
     "data": {
      "text/plain": [
       "6"
      ]
     },
     "execution_count": 118,
     "metadata": {},
     "output_type": "execute_result"
    }
   ],
   "source": [
    "#149 - prod\n",
    "a = np.array([1,2,3])\n",
    "a.prod()                                                # 1 * 2 * 3 = 6"
   ]
  },
  {
   "cell_type": "markdown",
   "id": "3ba18b22",
   "metadata": {},
   "source": [
    "* Return the product of the array elements over the given axis"
   ]
  },
  {
   "cell_type": "code",
   "execution_count": 119,
   "id": "68584a0d",
   "metadata": {},
   "outputs": [
    {
     "data": {
      "text/plain": [
       "20"
      ]
     },
     "execution_count": 119,
     "metadata": {},
     "output_type": "execute_result"
    }
   ],
   "source": [
    "#150 - ptp\n",
    "a = np.array([5,15,25])\n",
    "a.ptp()                                                 # peak-to-peak = maximum - minimum"
   ]
  },
  {
   "cell_type": "markdown",
   "id": "1b9e58e0",
   "metadata": {},
   "source": [
    "* Peak to peak (maximum - minimum) value along a given axis."
   ]
  },
  {
   "cell_type": "code",
   "execution_count": 122,
   "id": "1b96b861",
   "metadata": {},
   "outputs": [
    {
     "data": {
      "text/plain": [
       "array([60, 20, 80, 70])"
      ]
     },
     "execution_count": 122,
     "metadata": {},
     "output_type": "execute_result"
    }
   ],
   "source": [
    "#151 - put\n",
    "a = np.array([10,20,30,40])\n",
    "a.put([0,3,2],[60,70,80])                               # first indices, then values\n",
    "a"
   ]
  },
  {
   "cell_type": "markdown",
   "id": "92ded276",
   "metadata": {},
   "source": [
    "* replace the elements with new elements along the given indeices "
   ]
  },
  {
   "cell_type": "code",
   "execution_count": 127,
   "id": "f04e9334",
   "metadata": {},
   "outputs": [
    {
     "data": {
      "text/plain": [
       "array([1, 0, 1, 1])"
      ]
     },
     "execution_count": 127,
     "metadata": {},
     "output_type": "execute_result"
    }
   ],
   "source": [
    "#152 - putmask\n",
    "a = np.array([10,20,30,40])\n",
    "mask = np.array([True,False,True,True])                # size mask = size a\n",
    "np.putmask(a,[60,70,80,90], mask)                      # first values, then the mask\n",
    "a"
   ]
  },
  {
   "cell_type": "markdown",
   "id": "817ffe3a",
   "metadata": {},
   "source": [
    "* Changes elements of an array based on conditional and input values.\n"
   ]
  },
  {
   "cell_type": "code",
   "execution_count": 128,
   "id": "4e3955e3",
   "metadata": {},
   "outputs": [
    {
     "data": {
      "text/plain": [
       "array([1, 2, 3, 4])"
      ]
     },
     "execution_count": 128,
     "metadata": {},
     "output_type": "execute_result"
    }
   ],
   "source": [
    "#153 - r_[]\n",
    "np.r_[1:5]                                             # same as arange(1,5)"
   ]
  },
  {
   "cell_type": "code",
   "execution_count": 129,
   "id": "f7ca1899",
   "metadata": {},
   "outputs": [
    {
     "data": {
      "text/plain": [
       "array([1, 5, 9])"
      ]
     },
     "execution_count": 129,
     "metadata": {},
     "output_type": "execute_result"
    }
   ],
   "source": [
    "np.r_[1:10:4]                                          # same as arange(1,10,4)"
   ]
  },
  {
   "cell_type": "markdown",
   "id": "a8b02761",
   "metadata": {},
   "source": [
    "* Translates slice objects to concatenation along the first axis."
   ]
  },
  {
   "cell_type": "code",
   "execution_count": 133,
   "id": "0d57a37f",
   "metadata": {},
   "outputs": [
    {
     "data": {
      "text/plain": [
       "array([[0.79841733, 0.55053661],\n",
       "       [0.67583164, 0.08721136],\n",
       "       [0.13388783, 0.90194768]])"
      ]
     },
     "execution_count": 133,
     "metadata": {},
     "output_type": "execute_result"
    }
   ],
   "source": [
    "#154 - rand\n",
    "np.random.rand(3,2)"
   ]
  },
  {
   "cell_type": "markdown",
   "id": "52a5ede4",
   "metadata": {},
   "source": [
    "* Random values in a given shape."
   ]
  },
  {
   "cell_type": "code",
   "execution_count": 137,
   "id": "88a821aa",
   "metadata": {},
   "outputs": [
    {
     "name": "stderr",
     "output_type": "stream",
     "text": [
      "C:\\Users\\DELL\\AppData\\Local\\Temp\\ipykernel_5296\\2334570622.py:2: DeprecationWarning: This function is deprecated. Please call randint(-1, 5 + 1) instead\n",
      "  np.random.random_integers(-1,5,(2,2))\n"
     ]
    },
    {
     "data": {
      "text/plain": [
       "array([[ 4,  1],\n",
       "       [-1,  0]])"
      ]
     },
     "execution_count": 137,
     "metadata": {},
     "output_type": "execute_result"
    }
   ],
   "source": [
    "#155,156 - randint,random_integers\n",
    "np.random.random_integers(-1,5,(2,2))"
   ]
  },
  {
   "cell_type": "markdown",
   "id": "c0b95edf",
   "metadata": {},
   "source": [
    "* Return random integers of type `np.int_` from the \"discrete uniform\" distribution in the closed interval [`low`, `high`]"
   ]
  },
  {
   "cell_type": "code",
   "execution_count": 138,
   "id": "feff40a9",
   "metadata": {},
   "outputs": [
    {
     "data": {
      "text/plain": [
       "array([[ 0.34126588, -0.97846872,  1.24891599],\n",
       "       [-0.03951925,  0.96081188,  0.01218355]])"
      ]
     },
     "execution_count": 138,
     "metadata": {},
     "output_type": "execute_result"
    }
   ],
   "source": [
    "# 157 - randn\n",
    "np.random.randn(2,3)"
   ]
  },
  {
   "cell_type": "markdown",
   "id": "291890b2",
   "metadata": {},
   "source": [
    "* Return a sample (or samples) from the \"standard normal\" distribution."
   ]
  },
  {
   "cell_type": "code",
   "execution_count": 163,
   "id": "2d5d8609",
   "metadata": {},
   "outputs": [
    {
     "data": {
      "text/plain": [
       "array([[0.81934079, 0.02750174],\n",
       "       [0.0934604 , 0.07019454],\n",
       "       [0.64444934, 0.09014949]])"
      ]
     },
     "execution_count": 163,
     "metadata": {},
     "output_type": "execute_result"
    }
   ],
   "source": [
    "# 158,159,171 - random_sample,ranf,sample\n",
    "np.random.random_sample((3,2))"
   ]
  },
  {
   "cell_type": "markdown",
   "id": "fd341dea",
   "metadata": {},
   "source": [
    "* Return random floats in the half-open interval [0.0, 1.0]. Results are from the \"continuous uniform\" distribution over the\n",
    "stated interval. "
   ]
  },
  {
   "cell_type": "code",
   "execution_count": 141,
   "id": "f12c12a6",
   "metadata": {},
   "outputs": [
    {
     "data": {
      "text/plain": [
       "array([1, 2, 3, 4])"
      ]
     },
     "execution_count": 141,
     "metadata": {},
     "output_type": "execute_result"
    }
   ],
   "source": [
    "# 160 - ravel\n",
    "a = np.array([[1,2],[3,4]])\n",
    "a.ravel()                                       # 1-d version of a"
   ]
  },
  {
   "cell_type": "markdown",
   "id": "a784b342",
   "metadata": {},
   "source": [
    "* Return a flattened(1-d) array."
   ]
  },
  {
   "cell_type": "code",
   "execution_count": 142,
   "id": "18502b8f",
   "metadata": {},
   "outputs": [
    {
     "data": {
      "text/plain": [
       "array([1., 3., 5.])"
      ]
     },
     "execution_count": 142,
     "metadata": {},
     "output_type": "execute_result"
    }
   ],
   "source": [
    "# 161 - real\n",
    "a = np.array([1+2j,3+4j,5+6j])\n",
    "a.real"
   ]
  },
  {
   "cell_type": "markdown",
   "id": "b7bc0ffe",
   "metadata": {},
   "source": [
    "* returns the real part of the complex number"
   ]
  },
  {
   "cell_type": "code",
   "execution_count": 144,
   "id": "8a43a43a",
   "metadata": {},
   "outputs": [
    {
     "data": {
      "text/plain": [
       "rec.array([(3, 5.29980882e-315, 5.30498948e-315),\n",
       "           (4, 4.00000000e+000, 5.00000000e+000)],\n",
       "          dtype=[('id', '<i4'), ('x', '<f8'), ('y', '<f8')])"
      ]
     },
     "execution_count": 144,
     "metadata": {},
     "output_type": "execute_result"
    }
   ],
   "source": [
    "# 162 - recarray\n",
    "num = 2\n",
    "a = np.recarray(num, formats='i4,f8,f8',names='id,x,y')\n",
    "a['id'] = [3,4]\n",
    "a['id']\n",
    "a"
   ]
  },
  {
   "cell_type": "markdown",
   "id": "6d4c064d",
   "metadata": {},
   "source": [
    "* Construct an ndarray that allows field access using attributes.\n",
    "\n",
    " * Arrays may have a data-types containing fields, analogous\n",
    "to columns in a spread sheet."
   ]
  },
  {
   "cell_type": "code",
   "execution_count": 145,
   "id": "e72c8dac",
   "metadata": {},
   "outputs": [
    {
     "data": {
      "text/plain": [
       "10.0"
      ]
     },
     "execution_count": 145,
     "metadata": {},
     "output_type": "execute_result"
    }
   ],
   "source": [
    "# 163 - reduce\n",
    "np.add.reduce(np.array([1.,2.,3.,4.]))                                   # computes ((((1.)+2.)+3.)+4.)"
   ]
  },
  {
   "cell_type": "markdown",
   "id": "1b8b526a",
   "metadata": {},
   "source": [
    "*  A reducing function takes a collection of values and calculates a single representative value."
   ]
  },
  {
   "cell_type": "code",
   "execution_count": 146,
   "id": "0d028611",
   "metadata": {},
   "outputs": [
    {
     "data": {
      "text/plain": [
       "array([7., 7., 7., 7.])"
      ]
     },
     "execution_count": 146,
     "metadata": {},
     "output_type": "execute_result"
    }
   ],
   "source": [
    "# 164 - repeat\n",
    "np.repeat(7., 4)                                # repeats 7 for 4 times"
   ]
  },
  {
   "cell_type": "code",
   "execution_count": 147,
   "id": "cac6ff05",
   "metadata": {},
   "outputs": [
    {
     "data": {
      "text/plain": [
       "array([10, 10, 10, 20, 20])"
      ]
     },
     "execution_count": 147,
     "metadata": {},
     "output_type": "execute_result"
    }
   ],
   "source": [
    "a = np.array([10,20])\n",
    "a.repeat([3,2])"
   ]
  },
  {
   "cell_type": "markdown",
   "id": "daf8cec6",
   "metadata": {},
   "source": [
    "* Repeat elements of an array."
   ]
  },
  {
   "cell_type": "code",
   "execution_count": 148,
   "id": "3ed83023",
   "metadata": {},
   "outputs": [
    {
     "data": {
      "text/plain": [
       "array([[ 0,  1,  2,  3],\n",
       "       [ 4,  5,  6,  7],\n",
       "       [ 8,  9, 10, 11]])"
      ]
     },
     "execution_count": 148,
     "metadata": {},
     "output_type": "execute_result"
    }
   ],
   "source": [
    "# 165 - reshape\n",
    "x = np.arange(12)\n",
    "x.reshape(3,4)                       # array with 3 rows and 4 columns. 3x4=12. Total number of elements is always the same."
   ]
  },
  {
   "cell_type": "markdown",
   "id": "9da842d3",
   "metadata": {},
   "source": [
    "* Returns an array containing the same data with a new shape."
   ]
  },
  {
   "cell_type": "code",
   "execution_count": 157,
   "id": "1472a689",
   "metadata": {},
   "outputs": [
    {
     "name": "stdout",
     "output_type": "stream",
     "text": [
      "[[1 2]\n",
      " [3 4]]\n"
     ]
    }
   ],
   "source": [
    "# 166 - resize\n",
    "a = np.array([1,2,3,4])\n",
    "a.resize(2,2)                          # changes shape of 'a' itself\n",
    "print(a)"
   ]
  },
  {
   "cell_type": "markdown",
   "id": "8486a79d",
   "metadata": {},
   "source": [
    "* Change shape and size of array in-place."
   ]
  },
  {
   "cell_type": "code",
   "execution_count": 156,
   "id": "6a8baf00",
   "metadata": {},
   "outputs": [
    {
     "name": "stdout",
     "output_type": "stream",
     "text": [
      "(3, 4, 5)\n"
     ]
    },
    {
     "data": {
      "text/plain": [
       "(4, 3, 5)"
      ]
     },
     "execution_count": 156,
     "metadata": {},
     "output_type": "execute_result"
    }
   ],
   "source": [
    "# 167 - rollaxis\n",
    "a = np.arange(3*4*5).reshape(3,4,5)\n",
    "print(a.shape)\n",
    "\n",
    "b = np.rollaxis(a,1,0)                                # transpose array so that axis 1 is 'rolled' before axis 0\n",
    "b.shape"
   ]
  },
  {
   "cell_type": "markdown",
   "id": "75ae15cc",
   "metadata": {},
   "source": [
    "* Roll the specified axis backwards, until it lies in a given position."
   ]
  },
  {
   "cell_type": "code",
   "execution_count": 158,
   "id": "644c869d",
   "metadata": {},
   "outputs": [
    {
     "data": {
      "text/plain": [
       "array([ 1., -2.])"
      ]
     },
     "execution_count": 158,
     "metadata": {},
     "output_type": "execute_result"
    }
   ],
   "source": [
    "# 168 - round\n",
    "np. array([1.2345, -1.647]).round()                   # rounds the items. Type remains float64."
   ]
  },
  {
   "cell_type": "markdown",
   "id": "e63cd02a",
   "metadata": {},
   "source": [
    "* round the elements to integers"
   ]
  },
  {
   "cell_type": "code",
   "execution_count": 161,
   "id": "45b82c76",
   "metadata": {},
   "outputs": [
    {
     "name": "stdout",
     "output_type": "stream",
     "text": [
      "[[ 0  1  2]\n",
      " [ 3  4  5]\n",
      " [ 6  7  8]\n",
      " [ 9 10 11]]\n"
     ]
    },
    {
     "data": {
      "text/plain": [
       "array([[ 2,  5,  8, 11],\n",
       "       [ 1,  4,  7, 10],\n",
       "       [ 0,  3,  6,  9]])"
      ]
     },
     "execution_count": 161,
     "metadata": {},
     "output_type": "execute_result"
    }
   ],
   "source": [
    "# 169 - rot90\n",
    "a = np.arange(12).reshape(4,3)\n",
    "print(a)\n",
    "\n",
    "np.rot90(a)                                                 # 'rotate' the matrix 90 degrees"
   ]
  },
  {
   "cell_type": "markdown",
   "id": "9456698e",
   "metadata": {},
   "source": [
    "* Rotate an array by 90 degrees in the plane specified by axes."
   ]
  },
  {
   "cell_type": "code",
   "execution_count": 162,
   "id": "08b08180",
   "metadata": {},
   "outputs": [
    {
     "data": {
      "text/plain": [
       "slice(1, 5, None)"
      ]
     },
     "execution_count": 162,
     "metadata": {},
     "output_type": "execute_result"
    }
   ],
   "source": [
    "# 170 - s_[]\n",
    "np.s_[1:5]                                                 # easy slice generating. See r_[] examples."
   ]
  },
  {
   "cell_type": "code",
   "execution_count": 165,
   "id": "855743da",
   "metadata": {},
   "outputs": [],
   "source": [
    "# 172 - savetxt\n",
    "data = np.arange(12).reshape(4,3)\n",
    "np.savetxt(\"myfile.txt\", data)                                 # data is 2D array\n",
    "y.tofile(\"myfile.date\")"
   ]
  },
  {
   "cell_type": "markdown",
   "id": "8e64827b",
   "metadata": {},
   "source": [
    "* Save an array to a text file."
   ]
  },
  {
   "cell_type": "code",
   "execution_count": 169,
   "id": "5c1aa659",
   "metadata": {},
   "outputs": [
    {
     "data": {
      "text/plain": [
       "3"
      ]
     },
     "execution_count": 169,
     "metadata": {},
     "output_type": "execute_result"
    }
   ],
   "source": [
    "# 173 - searchsorted\n",
    "a = np.array([1,2,2,3])                               # a is 1-D and in ascending order.\n",
    "a.searchsorted(2.5)                                    # side defaults to \"left\"                         "
   ]
  },
  {
   "cell_type": "markdown",
   "id": "93b8005e",
   "metadata": {},
   "source": [
    "* returns the index where the specified element is to be inserted in 'a' to maintain order"
   ]
  },
  {
   "cell_type": "code",
   "execution_count": 172,
   "id": "e25e8e5e",
   "metadata": {},
   "outputs": [
    {
     "data": {
      "text/plain": [
       "array([0.13436424, 0.84743374, 0.76377462])"
      ]
     },
     "execution_count": 172,
     "metadata": {},
     "output_type": "execute_result"
    }
   ],
   "source": [
    "# 174 - seed\n",
    "np.random.seed([1])                          # seed the pseudo-random number generator\n",
    "np.random.rand(3)"
   ]
  },
  {
   "cell_type": "markdown",
   "id": "84c9a78b",
   "metadata": {},
   "source": [
    "*  numerical value that generates a new set or repeats pseudo-random numbers"
   ]
  },
  {
   "cell_type": "code",
   "execution_count": 174,
   "id": "b3511263",
   "metadata": {},
   "outputs": [
    {
     "data": {
      "text/plain": [
       "array([  5.2,  -2.1,   1.2,   0. ,   4.2,  -1.1,   3.2, 100. ])"
      ]
     },
     "execution_count": 174,
     "metadata": {},
     "output_type": "execute_result"
    }
   ],
   "source": [
    "# 175 - select\n",
    "x = np.array([5., -2., 1., 0., 4., -1., 3., 10.])\n",
    "np.select([x < 0, x == 0, x <= 5], [x-0.1, 0.0, x+0.2], default = 100.)"
   ]
  },
  {
   "cell_type": "markdown",
   "id": "0f34159e",
   "metadata": {},
   "source": [
    "* Return an array drawn from elements in choicelist, depending on conditions."
   ]
  },
  {
   "cell_type": "code",
   "execution_count": 178,
   "id": "49950c59",
   "metadata": {},
   "outputs": [
    {
     "data": {
      "text/plain": [
       "array([3.142, 0.   ])"
      ]
     },
     "execution_count": 178,
     "metadata": {},
     "output_type": "execute_result"
    }
   ],
   "source": [
    "# 176 - set_printoptions\n",
    "x = np.array([np.pi, 1.e-200])\n",
    "x\n",
    "\n",
    "np.set_printoptions(precision=3, suppress=True)                    # 3 digits behind decimal point + suppress small values\n",
    "x"
   ]
  },
  {
   "cell_type": "markdown",
   "id": "fdcbb600",
   "metadata": {},
   "source": [
    "* compute the values of arguements in a array\n",
    "* precision=3 - 3 digits behind decimal point\n",
    "* suppress=True - suppress small values"
   ]
  },
  {
   "cell_type": "code",
   "execution_count": 179,
   "id": "776738d3",
   "metadata": {},
   "outputs": [
    {
     "data": {
      "text/plain": [
       "(12,)"
      ]
     },
     "execution_count": 179,
     "metadata": {},
     "output_type": "execute_result"
    }
   ],
   "source": [
    "# 177 - shape\n",
    "x = np.arange(12)\n",
    "x.shape"
   ]
  },
  {
   "cell_type": "code",
   "execution_count": 180,
   "id": "b6320e83",
   "metadata": {},
   "outputs": [
    {
     "data": {
      "text/plain": [
       "array([[ 0,  1,  2,  3],\n",
       "       [ 4,  5,  6,  7],\n",
       "       [ 8,  9, 10, 11]])"
      ]
     },
     "execution_count": 180,
     "metadata": {},
     "output_type": "execute_result"
    }
   ],
   "source": [
    "x.shape = (3,4)              # array with 3 rows and 4 columns. 3x4=12. Total number of elements is always the same.\n",
    "x"
   ]
  },
  {
   "cell_type": "markdown",
   "id": "6228b455",
   "metadata": {},
   "source": [
    "* returns number of rows and columns"
   ]
  },
  {
   "cell_type": "code",
   "execution_count": 185,
   "id": "a9ca48e5",
   "metadata": {},
   "outputs": [
    {
     "name": "stdout",
     "output_type": "stream",
     "text": [
      "[50  3 -1  1]\n"
     ]
    }
   ],
   "source": [
    "# 178 - shuffle\n",
    "x = np.array([1,50,-1,3])\n",
    "np.random.shuffle(x)                                # shuffle the elements of x\n",
    "print(x)"
   ]
  },
  {
   "cell_type": "markdown",
   "id": "6dbd4063",
   "metadata": {},
   "source": [
    "* shuffle the elements of x.  This function only shuffles the array along the first axis of a multi-dimensional array."
   ]
  },
  {
   "cell_type": "code",
   "execution_count": 191,
   "id": "8cba5fe8",
   "metadata": {},
   "outputs": [
    {
     "name": "stdout",
     "output_type": "stream",
     "text": [
      "[ 0  1  2  3  4  5  6  7  8  9 10 11 12 13 14 15 16 17 18 19]\n"
     ]
    },
    {
     "data": {
      "text/plain": [
       "array([3, 5, 7])"
      ]
     },
     "execution_count": 191,
     "metadata": {},
     "output_type": "execute_result"
    }
   ],
   "source": [
    "# 179 - slice\n",
    "a = np.arange(20)\n",
    "print(a)\n",
    "a[3:9:2]\n"
   ]
  },
  {
   "cell_type": "code",
   "execution_count": 195,
   "id": "7ef84d24",
   "metadata": {},
   "outputs": [
    {
     "name": "stdout",
     "output_type": "stream",
     "text": [
      "[-3.286  9.429  1.286]\n"
     ]
    }
   ],
   "source": [
    "# 180 - solve\n",
    "\n",
    "# The system of equations we want to solve for (x0,x1,x2):\n",
    "# 3 * x0 + 1 * x1 + 5 * x2 = 6\n",
    "# 1 * x0 + 8 * x2 = 7\n",
    "# 2 * x0 + 1 * x1 + 4 * x2 = 8\n",
    "\n",
    "a = np.array([[3,1,5],[1,0,8],[2,1,4]])\n",
    "b = np.array([6,7,8])\n",
    "x = np.linalg.solve(a,b)\n",
    "print(x)                                                     # This is our solution"
   ]
  },
  {
   "cell_type": "code",
   "execution_count": 198,
   "id": "b3796b4c",
   "metadata": {},
   "outputs": [
    {
     "data": {
      "text/plain": [
       "True"
      ]
     },
     "execution_count": 198,
     "metadata": {},
     "output_type": "execute_result"
    }
   ],
   "source": [
    "# 181 - sometrue\n",
    "b = np.array([False, False, False, True])\n",
    "np.sometrue(b)"
   ]
  },
  {
   "cell_type": "markdown",
   "id": "35615173",
   "metadata": {},
   "source": [
    "* returns a boolean for atleast one true"
   ]
  },
  {
   "cell_type": "code",
   "execution_count": 199,
   "id": "962acce4",
   "metadata": {},
   "outputs": [
    {
     "data": {
      "text/plain": [
       "array([0, 1, 2, 4, 8])"
      ]
     },
     "execution_count": 199,
     "metadata": {},
     "output_type": "execute_result"
    }
   ],
   "source": [
    "# 182 - sort\n",
    "a = np.array([2,0,8,4,1])\n",
    "a.sort()                                  # in-place sorting with quicksort (default)\n",
    "a"
   ]
  },
  {
   "cell_type": "markdown",
   "id": "dc715c28",
   "metadata": {},
   "source": [
    "* ascending order of elements in array"
   ]
  },
  {
   "cell_type": "markdown",
   "id": "f92248ab",
   "metadata": {},
   "source": [
    "* Split an array into multiple sub-arrays as per given `ary`"
   ]
  },
  {
   "cell_type": "code",
   "execution_count": 200,
   "id": "4cf7ab52",
   "metadata": {},
   "outputs": [
    {
     "data": {
      "text/plain": [
       "[array([[1, 2, 3, 4]]), array([[5, 6, 7, 8]])]"
      ]
     },
     "execution_count": 200,
     "metadata": {},
     "output_type": "execute_result"
    }
   ],
   "source": [
    "# 183 - split\n",
    "a = np.array([[1,2,3,4],[5,6,7,8]])\n",
    "np.split(a,2,axis=0)                                       # split a in 2 parts. row-wise"
   ]
  },
  {
   "cell_type": "code",
   "execution_count": 202,
   "id": "49da45fb",
   "metadata": {},
   "outputs": [
    {
     "name": "stdout",
     "output_type": "stream",
     "text": [
      "[[[[[[0]\n",
      "     [1]\n",
      "     [2]]]]\n",
      "\n",
      "\n",
      "\n",
      "  [[[[3]\n",
      "     [4]\n",
      "     [5]]]]]]\n"
     ]
    },
    {
     "data": {
      "text/plain": [
       "array([[0, 1, 2],\n",
       "       [3, 4, 5]])"
      ]
     },
     "execution_count": 202,
     "metadata": {},
     "output_type": "execute_result"
    }
   ],
   "source": [
    "# 184 - squeeze\n",
    "a = np.arange(6)\n",
    "a = a.reshape(1,2,1,1,3,1)\n",
    "print(a)\n",
    "\n",
    "a.squeeze()                                            # result has shape 2x3, all dimensions with length 1 are removed"
   ]
  },
  {
   "cell_type": "markdown",
   "id": "47b7acc6",
   "metadata": {},
   "source": [
    "* This function removes one-dimensional entry from the shape of the given array. Two parameters are required for this function."
   ]
  },
  {
   "cell_type": "code",
   "execution_count": 203,
   "id": "691ca108",
   "metadata": {},
   "outputs": [
    {
     "data": {
      "text/plain": [
       "2.6246692913372702"
      ]
     },
     "execution_count": 203,
     "metadata": {},
     "output_type": "execute_result"
    }
   ],
   "source": [
    "# 185 - std\n",
    "a = np.array([1.,2,7])\n",
    "a.std()                                      # normalized by N (not N-1)"
   ]
  },
  {
   "cell_type": "markdown",
   "id": "d4b36d26",
   "metadata": {},
   "source": [
    "* Returns the standard deviation of the array elements along given axis."
   ]
  },
  {
   "cell_type": "code",
   "execution_count": 207,
   "id": "1ddce634",
   "metadata": {},
   "outputs": [
    {
     "data": {
      "text/plain": [
       "array([[ 0.393,  1.3  , -0.304],\n",
       "       [-0.663,  0.215,  1.761]])"
      ]
     },
     "execution_count": 207,
     "metadata": {},
     "output_type": "execute_result"
    }
   ],
   "source": [
    "# 186 - standard_normal\n",
    "np.random.standard_normal((2,3))"
   ]
  },
  {
   "cell_type": "markdown",
   "id": "c04372e0",
   "metadata": {},
   "source": [
    "* Return a sample (or samples) from the \"standard normal\" distribution."
   ]
  },
  {
   "cell_type": "code",
   "execution_count": 208,
   "id": "0bc6d034",
   "metadata": {},
   "outputs": [
    {
     "data": {
      "text/plain": [
       "6"
      ]
     },
     "execution_count": 208,
     "metadata": {},
     "output_type": "execute_result"
    }
   ],
   "source": [
    "# 187 - sum\n",
    "a = np.array([1,2,3])\n",
    "a.sum()"
   ]
  },
  {
   "cell_type": "markdown",
   "id": "f8222c05",
   "metadata": {},
   "source": [
    "* Return the sum of the array elements over the given axis"
   ]
  },
  {
   "cell_type": "code",
   "execution_count": 212,
   "id": "1230e88c",
   "metadata": {},
   "outputs": [
    {
     "name": "stdout",
     "output_type": "stream",
     "text": [
      "[[-0.62   0.785]\n",
      " [-0.785 -0.62 ]]\n"
     ]
    }
   ],
   "source": [
    "# 188 - svd\n",
    "A = np.array([[1., 3., 5.],[2., 4., 6.]])            # A is a (2x3) matrix\n",
    "U,sigma,V = np.linalg .svd(A)\n",
    "print(U)                                         # U is a (2x2) unitary matrix"
   ]
  },
  {
   "cell_type": "markdown",
   "id": "9dc4e9ed",
   "metadata": {},
   "source": [
    "* svd() function is used to compute the factor of an array by Singular Value Decomposition.\n",
    "* Singular Value Decomposition, or SVD, has a wide array of applications. These include dimensionality reduction, image compression, and denoising data."
   ]
  },
  {
   "cell_type": "code",
   "execution_count": 213,
   "id": "8fde65b5",
   "metadata": {},
   "outputs": [
    {
     "name": "stdout",
     "output_type": "stream",
     "text": [
      "[[[ 0  1  2  3  4]\n",
      "  [ 5  6  7  8  9]\n",
      "  [10 11 12 13 14]]\n",
      "\n",
      " [[15 16 17 18 19]\n",
      "  [20 21 22 23 24]\n",
      "  [25 26 27 28 29]]]\n"
     ]
    },
    {
     "data": {
      "text/plain": [
       "array([[[ 0,  5, 10],\n",
       "        [ 1,  6, 11],\n",
       "        [ 2,  7, 12],\n",
       "        [ 3,  8, 13],\n",
       "        [ 4,  9, 14]],\n",
       "\n",
       "       [[15, 20, 25],\n",
       "        [16, 21, 26],\n",
       "        [17, 22, 27],\n",
       "        [18, 23, 28],\n",
       "        [19, 24, 29]]])"
      ]
     },
     "execution_count": 213,
     "metadata": {},
     "output_type": "execute_result"
    }
   ],
   "source": [
    "# 189 - swapaxes\n",
    "a = np.arange(30)\n",
    "a = a.reshape(2,3,5)\n",
    "print(a)\n",
    "\n",
    "b = a.swapaxes(1,2)                            # swap the 2nd and the 3rd axis\n",
    "b"
   ]
  },
  {
   "cell_type": "markdown",
   "id": "a41962d9",
   "metadata": {},
   "source": [
    "* tranforms rows into columns and columns into rows"
   ]
  },
  {
   "cell_type": "code",
   "execution_count": 214,
   "id": "2dd4006e",
   "metadata": {},
   "outputs": [
    {
     "name": "stdout",
     "output_type": "stream",
     "text": [
      "[[1. 2.]\n",
      " [3. 4.]]\n"
     ]
    },
    {
     "data": {
      "text/plain": [
       "array([[1., 3.],\n",
       "       [2., 4.]])"
      ]
     },
     "execution_count": 214,
     "metadata": {},
     "output_type": "execute_result"
    }
   ],
   "source": [
    "# 190 - T\n",
    "x = np.array([[1.,2.],[3.,4.]])\n",
    "print(x)\n",
    "\n",
    "x.T                                          # shortcut for transpose()"
   ]
  },
  {
   "cell_type": "markdown",
   "id": "ceb3e852",
   "metadata": {},
   "source": [
    "* transpose of x (tranforms rows into columns and columns into rows)"
   ]
  },
  {
   "cell_type": "code",
   "execution_count": 215,
   "id": "8f551061",
   "metadata": {},
   "outputs": [
    {
     "data": {
      "text/plain": [
       "array([10, 10, 40])"
      ]
     },
     "execution_count": 215,
     "metadata": {},
     "output_type": "execute_result"
    }
   ],
   "source": [
    "# 191 - take\n",
    "a= np.array([10,20,30,40])\n",
    "a.take([0,0,3])                                    # [0,0,3] is a set of indices"
   ]
  },
  {
   "cell_type": "markdown",
   "id": "bff6a7f2",
   "metadata": {},
   "source": [
    "* return the array with specified index of elements from 'a' "
   ]
  },
  {
   "cell_type": "code",
   "execution_count": 217,
   "id": "9e59571f",
   "metadata": {},
   "outputs": [
    {
     "data": {
      "text/plain": [
       "(5, 2)"
      ]
     },
     "execution_count": 217,
     "metadata": {},
     "output_type": "execute_result"
    }
   ],
   "source": [
    "# 192 - tensordot\n",
    "a = np.arange(60.).reshape(3,4,5)\n",
    "b = np.arange(24.).reshape(4,3,2)\n",
    "c = np.tensordot(a,b, axes=([1,0],[0,1]))           # sum over the 1st and 2nd dimensions\n",
    "c.shape"
   ]
  },
  {
   "cell_type": "markdown",
   "id": "8defb40c",
   "metadata": {},
   "source": [
    "* Compute tensor dot product along specified axes\n",
    "* Tensordot (also known as tensor contraction) sums the product of elements from a and b over the indices specified by axes"
   ]
  },
  {
   "cell_type": "code",
   "execution_count": 218,
   "id": "d486448b",
   "metadata": {},
   "outputs": [
    {
     "data": {
      "text/plain": [
       "array([[10, 20, 10, 20],\n",
       "       [10, 20, 10, 20],\n",
       "       [10, 20, 10, 20]])"
      ]
     },
     "execution_count": 218,
     "metadata": {},
     "output_type": "execute_result"
    }
   ],
   "source": [
    "# 193 - tile\n",
    "a = np.array([10,20])\n",
    "np.tile(a, (3,2))                                     # concatenate 3x2 copies of a together"
   ]
  },
  {
   "cell_type": "markdown",
   "id": "8641a7fd",
   "metadata": {},
   "source": [
    "* Construct an array by repeating 'a' the number of times given by reps."
   ]
  },
  {
   "cell_type": "code",
   "execution_count": 220,
   "id": "aa149516",
   "metadata": {},
   "outputs": [],
   "source": [
    "# 194 - tofile\n",
    "x = np.arange(10.)\n",
    "y = x**2\n",
    "y.tofile(\"myfile.dat\")                                # binary format"
   ]
  },
  {
   "cell_type": "markdown",
   "id": "09836053",
   "metadata": {},
   "source": [
    "* Write array to a file as text or binary (default)."
   ]
  },
  {
   "cell_type": "code",
   "execution_count": 221,
   "id": "6c49688c",
   "metadata": {},
   "outputs": [
    {
     "data": {
      "text/plain": [
       "[[1, 2], [3, 4]]"
      ]
     },
     "execution_count": 221,
     "metadata": {},
     "output_type": "execute_result"
    }
   ],
   "source": [
    "# 195 - tolist\n",
    "a = np.array([[1,2],[3,4]])\n",
    "a.tolist()                                          # convert to a standard python list"
   ]
  },
  {
   "cell_type": "markdown",
   "id": "ae28101b",
   "metadata": {},
   "source": [
    "* Return a copy of the array data as a (nested) Python list."
   ]
  },
  {
   "cell_type": "code",
   "execution_count": 224,
   "id": "0d6cbdfc",
   "metadata": {},
   "outputs": [
    {
     "name": "stdout",
     "output_type": "stream",
     "text": [
      "[[ 0  1  2  3]\n",
      " [ 4  5  6  7]\n",
      " [ 8  9 10 11]]\n",
      "[ 0  5 10]\n"
     ]
    },
    {
     "data": {
      "text/plain": [
       "15"
      ]
     },
     "execution_count": 224,
     "metadata": {},
     "output_type": "execute_result"
    }
   ],
   "source": [
    "# 196 - trace\n",
    "a = np.arange(12).reshape(3,4)\n",
    "print(a)\n",
    "\n",
    "print(a.diagonal())\n",
    "\n",
    "a.trace()"
   ]
  },
  {
   "cell_type": "markdown",
   "id": "f0a88947",
   "metadata": {},
   "source": [
    "* returns sum of the diagonal of an array"
   ]
  },
  {
   "cell_type": "code",
   "execution_count": 227,
   "id": "68aa5f12",
   "metadata": {},
   "outputs": [
    {
     "name": "stdout",
     "output_type": "stream",
     "text": [
      "[[1 2 3]\n",
      " [4 5 6]]\n",
      "[[1 4]\n",
      " [2 5]\n",
      " [3 6]]\n"
     ]
    }
   ],
   "source": [
    "# 197 - transpose\n",
    "a = np.array([[1,2,3],[4,5,6]])\n",
    "print(a)\n",
    "\n",
    "b = a.transpose()\n",
    "print(b)"
   ]
  },
  {
   "cell_type": "markdown",
   "id": "71993407",
   "metadata": {},
   "source": [
    "* transpose of x (tranforms rows into columns and columns into rows)"
   ]
  },
  {
   "cell_type": "code",
   "execution_count": 231,
   "id": "cd66ec3b",
   "metadata": {},
   "outputs": [
    {
     "data": {
      "text/plain": [
       "array([[1., 0., 0., 0.],\n",
       "       [1., 1., 0., 0.],\n",
       "       [1., 1., 1., 0.]])"
      ]
     },
     "execution_count": 231,
     "metadata": {},
     "output_type": "execute_result"
    }
   ],
   "source": [
    "# 198 - tri\n",
    "np.tri(3,4,k=0,dtype=float)         # 3x4 matrix of Floats, triangular, the k=0-th diagonal and below is 1, the upper part is 0"
   ]
  },
  {
   "cell_type": "markdown",
   "id": "8567aba1",
   "metadata": {},
   "source": [
    "* An array with ones at and below the given diagonal and zeros elsewhere."
   ]
  },
  {
   "cell_type": "code",
   "execution_count": 234,
   "id": "79530e18",
   "metadata": {},
   "outputs": [
    {
     "name": "stdout",
     "output_type": "stream",
     "text": [
      "[[10 20 30]\n",
      " [40 50 60]\n",
      " [70 80 90]]\n"
     ]
    },
    {
     "data": {
      "text/plain": [
       "array([[10,  0,  0],\n",
       "       [40, 50,  0],\n",
       "       [70, 80, 90]])"
      ]
     },
     "execution_count": 234,
     "metadata": {},
     "output_type": "execute_result"
    }
   ],
   "source": [
    "# 199 - tril\n",
    "a = np.arange(10,100,10).reshape(3,3)\n",
    "print(a)\n",
    "np.tril(a,k=0)"
   ]
  },
  {
   "cell_type": "markdown",
   "id": "1515763a",
   "metadata": {},
   "source": [
    "* returns a Lower triangle of an array."
   ]
  },
  {
   "cell_type": "code",
   "execution_count": 235,
   "id": "7f7d3b78",
   "metadata": {},
   "outputs": [
    {
     "name": "stdout",
     "output_type": "stream",
     "text": [
      "[[10 20 30]\n",
      " [40 50 60]\n",
      " [70 80 90]]\n"
     ]
    },
    {
     "data": {
      "text/plain": [
       "array([[10, 20, 30],\n",
       "       [ 0, 50, 60],\n",
       "       [ 0,  0, 90]])"
      ]
     },
     "execution_count": 235,
     "metadata": {},
     "output_type": "execute_result"
    }
   ],
   "source": [
    "# 200 - triu\n",
    "a = np.arange(10,100,10).reshape(3,3)\n",
    "print(a)\n",
    "np.triu(a,k=0)"
   ]
  },
  {
   "cell_type": "markdown",
   "id": "d04f4171",
   "metadata": {},
   "source": [
    "* returns a Lower triangle of an array."
   ]
  },
  {
   "cell_type": "code",
   "execution_count": 238,
   "id": "df64f946",
   "metadata": {},
   "outputs": [
    {
     "data": {
      "text/plain": [
       "array([1, 2, 3, 0, 0])"
      ]
     },
     "execution_count": 238,
     "metadata": {},
     "output_type": "execute_result"
    }
   ],
   "source": [
    "# 201 - trim_zeros\n",
    "x = np.array([0, 0, 0, 1, 2, 3, 0, 0])                     \n",
    "np.trim_zeros(x,'f')                                 # f indicates remove zeros at the front,bf - back and front, b - back"
   ]
  },
  {
   "cell_type": "markdown",
   "id": "31d3bc6e",
   "metadata": {},
   "source": [
    "* remove zeroes from a 1-D array or sequence."
   ]
  },
  {
   "cell_type": "code",
   "execution_count": 239,
   "id": "e98e5ad7",
   "metadata": {},
   "outputs": [
    {
     "name": "stderr",
     "output_type": "stream",
     "text": [
      "C:\\Users\\DELL\\AppData\\Local\\Temp\\ipykernel_5296\\2459440874.py:2: DeprecationWarning: `np.typeDict` is a deprecated alias for `np.sctypeDict`.\n",
      "  np.typeDict['short']\n"
     ]
    },
    {
     "data": {
      "text/plain": [
       "numpy.int16"
      ]
     },
     "execution_count": 239,
     "metadata": {},
     "output_type": "execute_result"
    }
   ],
   "source": [
    "# 202 - typeDict\n",
    "np.typeDict['short']"
   ]
  },
  {
   "cell_type": "code",
   "execution_count": 240,
   "id": "6b836add",
   "metadata": {},
   "outputs": [
    {
     "name": "stderr",
     "output_type": "stream",
     "text": [
      "C:\\Users\\DELL\\AppData\\Local\\Temp\\ipykernel_5296\\1891136687.py:1: DeprecationWarning: `np.typeDict` is a deprecated alias for `np.sctypeDict`.\n",
      "  np.typeDict['uint16']\n"
     ]
    },
    {
     "data": {
      "text/plain": [
       "numpy.uint16"
      ]
     },
     "execution_count": 240,
     "metadata": {},
     "output_type": "execute_result"
    }
   ],
   "source": [
    "np.typeDict['uint16']"
   ]
  },
  {
   "cell_type": "code",
   "execution_count": 244,
   "id": "b5c27019",
   "metadata": {},
   "outputs": [
    {
     "data": {
      "text/plain": [
       "array([[9.522, 9.265, 4.162],\n",
       "       [9.163, 9.222, 1.   ]])"
      ]
     },
     "execution_count": 244,
     "metadata": {},
     "output_type": "execute_result"
    }
   ],
   "source": [
    "# 203 - uniform\n",
    "np.random.uniform(low=0,high=10,size=(2,3))                                 # uniform numbers in range [0,10)"
   ]
  },
  {
   "cell_type": "markdown",
   "id": "dd48c462",
   "metadata": {},
   "source": [
    "* Draw samples from a uniform distribution.\n",
    "* uniform distribution refers to a type of probability distribution in which all outcomes are equally likely"
   ]
  },
  {
   "cell_type": "code",
   "execution_count": 243,
   "id": "a90a09b5",
   "metadata": {},
   "outputs": [
    {
     "data": {
      "text/plain": [
       "array([0, 1, 2, 3, 4])"
      ]
     },
     "execution_count": 243,
     "metadata": {},
     "output_type": "execute_result"
    }
   ],
   "source": [
    "# 204 - unique\n",
    "x = np.array([2,3,2,1,0,3,4,0])\n",
    "np.unique(x)                                                   # remove double values"
   ]
  },
  {
   "cell_type": "markdown",
   "id": "52f2a5c8",
   "metadata": {},
   "source": [
    "* returns only unique/distinct categories or values"
   ]
  },
  {
   "cell_type": "code",
   "execution_count": 252,
   "id": "a6860473",
   "metadata": {},
   "outputs": [
    {
     "data": {
      "text/plain": [
       "array([[ 1,  1,  1],\n",
       "       [ 4,  2,  1],\n",
       "       [ 9,  3,  1],\n",
       "       [25,  5,  1]])"
      ]
     },
     "execution_count": 252,
     "metadata": {},
     "output_type": "execute_result"
    }
   ],
   "source": [
    "# 206 - vander\n",
    "x = np.array([1,2,3,5])\n",
    "N=3\n",
    "np.vander(x,N)                                                # Vandermonde matrix of the vector x"
   ]
  },
  {
   "cell_type": "markdown",
   "id": "8a6bfec4",
   "metadata": {},
   "source": [
    "* Generate a Vandermonde matrix.\n",
    "* Vandermonde, is a matrix with the terms of a geometric progression in each row:"
   ]
  },
  {
   "cell_type": "code",
   "execution_count": 253,
   "id": "df7ea087",
   "metadata": {},
   "outputs": [
    {
     "data": {
      "text/plain": [
       "6.888888888888888"
      ]
     },
     "execution_count": 253,
     "metadata": {},
     "output_type": "execute_result"
    }
   ],
   "source": [
    "# 207 - var\n",
    "a = np.array([1,2,7])\n",
    "a.var()                                 # normalised with N (not N-1)"
   ]
  },
  {
   "cell_type": "markdown",
   "id": "064f1fbd",
   "metadata": {},
   "source": [
    "* Returns the variance of the array elements, along given axis."
   ]
  },
  {
   "cell_type": "code",
   "execution_count": 255,
   "id": "a5288d51",
   "metadata": {},
   "outputs": [
    {
     "data": {
      "text/plain": [
       "(70-8j)"
      ]
     },
     "execution_count": 255,
     "metadata": {},
     "output_type": "execute_result"
    }
   ],
   "source": [
    "# 208 - vdot\n",
    "x = np.array([1+2j,3+4j])\n",
    "y = np.array([5+6j,7+8j])\n",
    "np.vdot(x,y)                                            # conj(x) * y = (1-2j)*(5+6j)+(3-4j)*(7+8j)"
   ]
  },
  {
   "cell_type": "markdown",
   "id": "8d5c3815",
   "metadata": {},
   "source": [
    "* Return the dot product of two vectors."
   ]
  },
  {
   "cell_type": "code",
   "execution_count": 257,
   "id": "ee807f8d",
   "metadata": {},
   "outputs": [
    {
     "data": {
      "text/plain": [
       "4.0"
      ]
     },
     "execution_count": 257,
     "metadata": {},
     "output_type": "execute_result"
    }
   ],
   "source": [
    "# 209 - vectorize\n",
    "def myfunc(x):\n",
    "    if x >= 0: \n",
    "        return x**2 \n",
    "    else: \n",
    "        return -x\n",
    "\n",
    "myfunc(2.)                                               # works fine\n"
   ]
  },
  {
   "cell_type": "code",
   "execution_count": 262,
   "id": "8d7741e8",
   "metadata": {},
   "outputs": [
    {
     "data": {
      "text/plain": [
       "array([2., 4.])"
      ]
     },
     "execution_count": 262,
     "metadata": {},
     "output_type": "execute_result"
    }
   ],
   "source": [
    "vecfunc = np.vectorize(myfunc, otypes=[float])         # declare the return type as float\n",
    "vecfunc(np.array([-2,2]))                              # works fine!"
   ]
  },
  {
   "cell_type": "markdown",
   "id": "0f21a135",
   "metadata": {},
   "source": [
    "* Vectorization is used to speed up the Python code without using loop. Using such a function can help in minimizing the running time of code efficiently."
   ]
  },
  {
   "cell_type": "code",
   "execution_count": 265,
   "id": "3640c892",
   "metadata": {},
   "outputs": [
    {
     "name": "stdout",
     "output_type": "stream",
     "text": [
      "[1. 2.]\n"
     ]
    },
    {
     "data": {
      "text/plain": [
       "array([1.+2.j])"
      ]
     },
     "execution_count": 265,
     "metadata": {},
     "output_type": "execute_result"
    }
   ],
   "source": [
    "# 210 - view\n",
    "a = np.array([1., 2.])\n",
    "print(a.view())                                            # new array referring to the same data as 'a'\n",
    "\n",
    "a.view(complex)                                     # pretend that a is made up of complex numbers\n"
   ]
  },
  {
   "cell_type": "markdown",
   "id": "6a995dd8",
   "metadata": {},
   "source": [
    "* new array with new data type with same data as 'a'"
   ]
  },
  {
   "cell_type": "code",
   "execution_count": 269,
   "id": "d689cf90",
   "metadata": {},
   "outputs": [
    {
     "data": {
      "text/plain": [
       "array([[-0.272, -2.314,  0.076],\n",
       "       [ 0.097, -3.041,  0.312]])"
      ]
     },
     "execution_count": 269,
     "metadata": {},
     "output_type": "execute_result"
    }
   ],
   "source": [
    "# 211 - vonmises\n",
    "np.random.vonmises(mu=1,kappa=1,size=(2,3))           # Von Mises distribution mean=1.0, kappa=1"
   ]
  },
  {
   "cell_type": "markdown",
   "id": "1ce3355b",
   "metadata": {},
   "source": [
    "* Samples are drawn from a von Mises distribution with specified mode\n",
    "(mu) and dispersion (kappa), on the interval [-pi, pi].\n",
    "\n",
    "* The von Mises distribution (also known as the circular normal\n",
    "distribution) is a continuous probability distribution on the unit\n",
    "circle.  It may be thought of as the circular analogue of the normal\n",
    "distribution.\n"
   ]
  },
  {
   "cell_type": "code",
   "execution_count": 274,
   "id": "5ebe7427",
   "metadata": {},
   "outputs": [
    {
     "data": {
      "text/plain": [
       "[array([[1, 2],\n",
       "        [3, 4]]),\n",
       " array([[5, 6],\n",
       "        [7, 8]])]"
      ]
     },
     "execution_count": 274,
     "metadata": {},
     "output_type": "execute_result"
    }
   ],
   "source": [
    "# 212 - vsplit\n",
    "a = np.array([[1,2],[3,4],[5,6],[7,8]])\n",
    "np.vsplit(a,2)                                             # split, row-wise, in 2 equal parts"
   ]
  },
  {
   "cell_type": "markdown",
   "id": "0b53d651",
   "metadata": {},
   "source": [
    "* Split an array into multiple sub-arrays vertically (row-wise)."
   ]
  },
  {
   "cell_type": "code",
   "execution_count": 275,
   "id": "672f7368",
   "metadata": {},
   "outputs": [
    {
     "data": {
      "text/plain": [
       "array([[1, 2],\n",
       "       [3, 4],\n",
       "       [5, 6],\n",
       "       [1, 2]])"
      ]
     },
     "execution_count": 275,
     "metadata": {},
     "output_type": "execute_result"
    }
   ],
   "source": [
    "# 213 - vstack\n",
    "a = np.array([1,2])\n",
    "b = np.array([[3,4],[5,6]])\n",
    "np.vstack((a,b,a))                                # only the first dimension of the arrays is allowed to be different"
   ]
  },
  {
   "cell_type": "markdown",
   "id": "5bb3a7df",
   "metadata": {},
   "source": [
    "* Stack arrays in sequence vertically (row wise)."
   ]
  },
  {
   "cell_type": "code",
   "execution_count": 277,
   "id": "a2407444",
   "metadata": {},
   "outputs": [
    {
     "data": {
      "text/plain": [
       "array([[2.143, 1.495, 1.34 ],\n",
       "       [0.09 , 1.09 , 0.114]])"
      ]
     },
     "execution_count": 277,
     "metadata": {},
     "output_type": "execute_result"
    }
   ],
   "source": [
    "# 214 - weibull\n",
    "np.random.weibull(a=1,size=(2,3))                                 # I think a is the shape parameter"
   ]
  },
  {
   "cell_type": "markdown",
   "id": "42cdfc97",
   "metadata": {},
   "source": [
    "* Draw samples from a 1-parameter Weibull distribution with the given\n",
    "shape parameter `a`."
   ]
  },
  {
   "cell_type": "code",
   "execution_count": 278,
   "id": "550e3bba",
   "metadata": {},
   "outputs": [
    {
     "data": {
      "text/plain": [
       "array([10, 20,  6,  8])"
      ]
     },
     "execution_count": 278,
     "metadata": {},
     "output_type": "execute_result"
    }
   ],
   "source": [
    "# 215 - where\n",
    "a = np.array([3,5,7,9])\n",
    "b = np.array([10,20,30,40])\n",
    "c = np.array([2,4,6,8])\n",
    "np.where(a <= 6, b, c)"
   ]
  },
  {
   "cell_type": "markdown",
   "id": "0daedde7",
   "metadata": {},
   "source": [
    "* Return elements chosen from `b` or `c` depending on `condition`."
   ]
  },
  {
   "cell_type": "code",
   "execution_count": 279,
   "id": "6a061489",
   "metadata": {},
   "outputs": [
    {
     "data": {
      "text/plain": [
       "array([0., 0., 0., 0., 0.])"
      ]
     },
     "execution_count": 279,
     "metadata": {},
     "output_type": "execute_result"
    }
   ],
   "source": [
    "# 216 - zeros\n",
    "np.zeros(5)"
   ]
  },
  {
   "cell_type": "markdown",
   "id": "4125dee7",
   "metadata": {},
   "source": [
    "* Return a new array of given shape and type, filled with zeros."
   ]
  },
  {
   "cell_type": "code",
   "execution_count": 281,
   "id": "4922b252",
   "metadata": {},
   "outputs": [
    {
     "data": {
      "text/plain": [
       "array([[0, 0, 0],\n",
       "       [0, 0, 0]])"
      ]
     },
     "execution_count": 281,
     "metadata": {},
     "output_type": "execute_result"
    }
   ],
   "source": [
    "# 217 - zeros_like\n",
    "a = np.array([[1,2,3],[4,5,6]])\n",
    "np.zeros_like(a)                         # with zeros initialised array with the same shape and datatype as 'a'"
   ]
  },
  {
   "cell_type": "markdown",
   "id": "89c81220",
   "metadata": {},
   "source": [
    "* Return an array of zeros with the same shape and type as a given array.\n"
   ]
  },
  {
   "cell_type": "code",
   "execution_count": null,
   "id": "0f27dd99",
   "metadata": {},
   "outputs": [],
   "source": []
  }
 ],
 "metadata": {
  "kernelspec": {
   "display_name": "Python 3 (ipykernel)",
   "language": "python",
   "name": "python3"
  },
  "language_info": {
   "codemirror_mode": {
    "name": "ipython",
    "version": 3
   },
   "file_extension": ".py",
   "mimetype": "text/x-python",
   "name": "python",
   "nbconvert_exporter": "python",
   "pygments_lexer": "ipython3",
   "version": "3.9.12"
  }
 },
 "nbformat": 4,
 "nbformat_minor": 5
}
