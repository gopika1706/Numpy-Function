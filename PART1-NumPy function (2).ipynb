{
 "cells": [
  {
   "cell_type": "code",
   "execution_count": 1,
   "id": "22bec3c6",
   "metadata": {},
   "outputs": [
    {
     "name": "stdout",
     "output_type": "stream",
     "text": [
      "[[[ 0  1]\n",
      "  [ 2  3]]\n",
      "\n",
      " [[ 4  5]\n",
      "  [ 6  7]]\n",
      "\n",
      " [[ 8  9]\n",
      "  [10 11]]]\n"
     ]
    },
    {
     "data": {
      "text/plain": [
       "array([[ 0,  2],\n",
       "       [ 4,  6],\n",
       "       [ 8, 10]])"
      ]
     },
     "execution_count": 1,
     "metadata": {},
     "output_type": "execute_result"
    }
   ],
   "source": [
    "#1 ...\n",
    "import numpy as np\n",
    "a = np.arange(12)\n",
    "a = a.reshape(3,2,2)\n",
    "print(a)\n",
    "a[...,0]                                  #1) same as a[:,:,0]\n"
   ]
  },
  {
   "cell_type": "markdown",
   "id": "04079b11",
   "metadata": {},
   "source": [
    "* same as a[:,:,0]\n",
    "* print the elements of zero column index.\n"
   ]
  },
  {
   "cell_type": "code",
   "execution_count": 2,
   "id": "885a1dbe",
   "metadata": {},
   "outputs": [
    {
     "name": "stdout",
     "output_type": "stream",
     "text": [
      "[[ 0  1  2  3  4]\n",
      " [10 11 12 13 14]\n",
      " [20 21 22 23 24]\n",
      " [30 31 32 33 34]]\n",
      "0\n",
      "[30 31 32 33 34]\n",
      "[[11 12 13]\n",
      " [21 22 23]]\n"
     ]
    }
   ],
   "source": [
    "#2\n",
    "a = np.array([[0, 1, 2, 3, 4],\n",
    "           [10,11,12,13,14],\n",
    "           [20,21,22,23,24],                                                    \n",
    "           [30,31,32,33,34]])\n",
    "print(a) \n",
    "print(a[0,0])\n",
    "print(a[-1])                  # last row\n",
    "print(a[1:3,1:4])             # subarray"
   ]
  },
  {
   "cell_type": "markdown",
   "id": "f6400c12",
   "metadata": {},
   "source": [
    "* indexing or selector of required elements"
   ]
  },
  {
   "cell_type": "code",
   "execution_count": 3,
   "id": "f0f40a16",
   "metadata": {},
   "outputs": [
    {
     "data": {
      "text/plain": [
       "1.5620499351813308"
      ]
     },
     "execution_count": 3,
     "metadata": {},
     "output_type": "execute_result"
    }
   ],
   "source": [
    "#3\n",
    "abs(-1)\n",
    "abs(np.array([-1.2, 1.2]))\n",
    "abs(1.2+1j)"
   ]
  },
  {
   "cell_type": "markdown",
   "id": "ef95ce67",
   "metadata": {},
   "source": [
    "* abs() returns the absolute magnitude or value of the argument\n",
    "* int or float - absolute magnitude \n",
    "* Complex - Root over a square + b square"
   ]
  },
  {
   "cell_type": "code",
   "execution_count": 4,
   "id": "62464a60",
   "metadata": {},
   "outputs": [
    {
     "data": {
      "text/plain": [
       "array([[ 1,  3,  6],\n",
       "       [ 4,  9, 15]], dtype=int32)"
      ]
     },
     "execution_count": 4,
     "metadata": {},
     "output_type": "execute_result"
    }
   ],
   "source": [
    "#4\n",
    "np.add.accumulate(np.array([1.,2.,3.,4.]))\n",
    "np.array([1., 1.+2., (1.+2.)+3., ((1.+2.)+3.)+4.])\n",
    "np.multiply.accumulate(np.array([1.,2.,3.,4.]))\n",
    "np.add.accumulate(np.array([[1,2,3],[4,5,6]]), axis = 1)\n"
   ]
  },
  {
   "cell_type": "markdown",
   "id": "bc6edaab",
   "metadata": {},
   "source": [
    "* it makes an iterator that returns accumulated sum or accumulated Results of the Other binary functions which is mentioned in function parameter\n",
    "* this is same as np.cumsum(cummalative sum)\n",
    "* axis=1 refers to a columns(changes happens column-wise)\n",
    "\n"
   ]
  },
  {
   "cell_type": "code",
   "execution_count": 5,
   "id": "b92988af",
   "metadata": {},
   "outputs": [
    {
     "data": {
      "text/plain": [
       "array([-0.2,  4.2])"
      ]
     },
     "execution_count": 5,
     "metadata": {},
     "output_type": "execute_result"
    }
   ],
   "source": [
    "#5\n",
    "np.add(np.array([-1.2, 1.2]), np.array([1,3]))"
   ]
  },
  {
   "cell_type": "markdown",
   "id": "61e85643",
   "metadata": {},
   "source": [
    "* addition or adding to two arrays, element wise"
   ]
  },
  {
   "cell_type": "code",
   "execution_count": 6,
   "id": "0d584972",
   "metadata": {},
   "outputs": [
    {
     "data": {
      "text/plain": [
       "False"
      ]
     },
     "execution_count": 6,
     "metadata": {},
     "output_type": "execute_result"
    }
   ],
   "source": [
    "#6 - all()\n",
    "a = np.array([True, False, True])\n",
    "a.all()"
   ]
  },
  {
   "cell_type": "code",
   "execution_count": 7,
   "id": "db36f825",
   "metadata": {},
   "outputs": [
    {
     "data": {
      "text/plain": [
       "True"
      ]
     },
     "execution_count": 7,
     "metadata": {},
     "output_type": "execute_result"
    }
   ],
   "source": [
    "a = np.array([1,2,3])\n",
    "all(a > 0)"
   ]
  },
  {
   "cell_type": "markdown",
   "id": "1a7b5fe6",
   "metadata": {},
   "source": [
    "* all() function returns a Boolean value if only condition of all the elements of an array are true then it returns true otherwise false"
   ]
  },
  {
   "cell_type": "code",
   "execution_count": 8,
   "id": "27ec2c57",
   "metadata": {},
   "outputs": [
    {
     "data": {
      "text/plain": [
       "False"
      ]
     },
     "execution_count": 8,
     "metadata": {},
     "output_type": "execute_result"
    }
   ],
   "source": [
    "#8 - alltrue()\n",
    "b = np.array([True, False, True, True])\n",
    "np.alltrue(b)"
   ]
  },
  {
   "cell_type": "markdown",
   "id": "b0cde745",
   "metadata": {},
   "source": [
    "* returns true when all the elements of the array evaluates true"
   ]
  },
  {
   "cell_type": "code",
   "execution_count": 9,
   "id": "de956bf7",
   "metadata": {},
   "outputs": [
    {
     "name": "stdout",
     "output_type": "stream",
     "text": [
      "0.7853981633974483\n",
      "45.0\n",
      "0.0\n"
     ]
    }
   ],
   "source": [
    "#9 -np.angle()\n",
    "\n",
    "print(np.angle(1+1j))                           # in radians\n",
    "print(np.angle(1+1j,deg=True))                  # in degrees\n",
    "print(np.angle(3))"
   ]
  },
  {
   "cell_type": "markdown",
   "id": "19039bbf",
   "metadata": {},
   "source": [
    "* returns the angle value of a complex number by default radian"
   ]
  },
  {
   "cell_type": "code",
   "execution_count": 10,
   "id": "1d8aa9e5",
   "metadata": {},
   "outputs": [
    {
     "data": {
      "text/plain": [
       "True"
      ]
     },
     "execution_count": 10,
     "metadata": {},
     "output_type": "execute_result"
    }
   ],
   "source": [
    "#10 - any()\n",
    "a = np.array([True, False, True])\n",
    "a.any()                                       # gives True if at least 1 element of a is True, otherwise False"
   ]
  },
  {
   "cell_type": "markdown",
   "id": "510c35be",
   "metadata": {},
   "source": [
    "* returns true if at least one element in array is true"
   ]
  },
  {
   "cell_type": "code",
   "execution_count": 11,
   "id": "fde613cc",
   "metadata": {},
   "outputs": [
    {
     "data": {
      "text/plain": [
       "array([10, 20, 30, 40, 50])"
      ]
     },
     "execution_count": 11,
     "metadata": {},
     "output_type": "execute_result"
    }
   ],
   "source": [
    "#11 - append()\n",
    "a = np.array([10,20,30,40])\n",
    "np.append(a,50)"
   ]
  },
  {
   "cell_type": "code",
   "execution_count": 12,
   "id": "3af81083",
   "metadata": {},
   "outputs": [
    {
     "data": {
      "text/plain": [
       "array([10, 20, 30, 40, 50, 60])"
      ]
     },
     "execution_count": 12,
     "metadata": {},
     "output_type": "execute_result"
    }
   ],
   "source": [
    "np.array([10, 20, 30, 40, 50])\n",
    "np.append(a,(50,60))"
   ]
  },
  {
   "cell_type": "markdown",
   "id": "86e7b879",
   "metadata": {},
   "source": [
    "* add the elements to end of the array. elements can be list tuple any data type"
   ]
  },
  {
   "cell_type": "code",
   "execution_count": 13,
   "id": "0f1ea593",
   "metadata": {},
   "outputs": [
    {
     "data": {
      "text/plain": [
       "array([[[ 0,  1],\n",
       "        [ 2,  3],\n",
       "        [ 4,  5],\n",
       "        [ 6,  7],\n",
       "        [ 8,  9]],\n",
       "\n",
       "       [[10, 11],\n",
       "        [12, 13],\n",
       "        [14, 15],\n",
       "        [16, 17],\n",
       "        [18, 19]]])"
      ]
     },
     "execution_count": 13,
     "metadata": {},
     "output_type": "execute_result"
    }
   ],
   "source": [
    "#12 - apply_over_axes()\n",
    "a = np.arange(20).reshape(2,5,2)                             # a has 3 axes: 0,1 and 2\n",
    "a"
   ]
  },
  {
   "cell_type": "code",
   "execution_count": 14,
   "id": "d1bc84e3",
   "metadata": {},
   "outputs": [
    {
     "data": {
      "text/plain": [
       "array([22, 30, 38, 46, 54])"
      ]
     },
     "execution_count": 14,
     "metadata": {},
     "output_type": "execute_result"
    }
   ],
   "source": [
    "np.sum(a,axis=(0,2))"
   ]
  },
  {
   "cell_type": "code",
   "execution_count": 15,
   "id": "5a5bd408",
   "metadata": {},
   "outputs": [
    {
     "data": {
      "text/plain": [
       "array([[[22],\n",
       "        [30],\n",
       "        [38],\n",
       "        [46],\n",
       "        [54]]])"
      ]
     },
     "execution_count": 15,
     "metadata": {},
     "output_type": "execute_result"
    }
   ],
   "source": [
    "np.apply_over_axes(np.sum, a, [2,0])                # sum over all axes except axis=1, result has same shape as original\n"
   ]
  },
  {
   "cell_type": "markdown",
   "id": "ea45d1fc",
   "metadata": {},
   "source": [
    "* applies a function repeatedly over multiple axis in a array, the dimension of the output array is same as the input,but shape might be different"
   ]
  },
  {
   "cell_type": "code",
   "execution_count": 16,
   "id": "c6ddd1b8",
   "metadata": {},
   "outputs": [
    {
     "data": {
      "text/plain": [
       "array([20, 21, 22, 23, 24, 25, 26, 27, 28, 29, 30, 31, 32, 33, 34, 35, 36,\n",
       "       37, 38, 39, 40, 41, 42, 43, 44, 45, 46, 47, 48, 49])"
      ]
     },
     "execution_count": 16,
     "metadata": {},
     "output_type": "execute_result"
    }
   ],
   "source": [
    "#13 = arange()\n",
    "np.arange(20)\n",
    "np.arange(20,50)\n",
    "#np.arange(20,50,3)"
   ]
  },
  {
   "cell_type": "markdown",
   "id": "67ccabe6",
   "metadata": {},
   "source": [
    "* Returns all the values within the given range or interval"
   ]
  },
  {
   "cell_type": "code",
   "execution_count": 17,
   "id": "0a1b7ffd",
   "metadata": {},
   "outputs": [
    {
     "data": {
      "text/plain": [
       "array([3.14159265, 0.        ])"
      ]
     },
     "execution_count": 17,
     "metadata": {},
     "output_type": "execute_result"
    }
   ],
   "source": [
    "#14 - arccos()\n",
    "np.arccos(np.array([-1, 1]))"
   ]
  },
  {
   "cell_type": "markdown",
   "id": "6eb06723",
   "metadata": {},
   "source": [
    "* return the inverse cosine, elementwise\n",
    "* The function accepts both real and complex inputs. For real values of X in the interval [-1, 1], acos(X) returns values in     the interval [0, π]."
   ]
  },
  {
   "cell_type": "code",
   "execution_count": 18,
   "id": "265a75eb",
   "metadata": {},
   "outputs": [
    {
     "data": {
      "text/plain": [
       "array([2.29243167, 2.99322285])"
      ]
     },
     "execution_count": 18,
     "metadata": {},
     "output_type": "execute_result"
    }
   ],
   "source": [
    "#15 - arccosh()\n",
    "np.arccosh(np.array([5, 10.0]))"
   ]
  },
  {
   "cell_type": "markdown",
   "id": "602a47f3",
   "metadata": {},
   "source": [
    "* return the inverse hyperbolic cosine elementwise"
   ]
  },
  {
   "cell_type": "code",
   "execution_count": 19,
   "id": "ef023d08",
   "metadata": {},
   "outputs": [
    {
     "data": {
      "text/plain": [
       "array([0.        , 1.57079633])"
      ]
     },
     "execution_count": 19,
     "metadata": {},
     "output_type": "execute_result"
    }
   ],
   "source": [
    "#16 - arcsin()\n",
    "np.arcsin(np.array([0, 1]))"
   ]
  },
  {
   "cell_type": "markdown",
   "id": "ba5cdd10",
   "metadata": {},
   "source": [
    "* return the inverse sine, elementwise"
   ]
  },
  {
   "cell_type": "code",
   "execution_count": 20,
   "id": "39c25e27",
   "metadata": {},
   "outputs": [
    {
     "data": {
      "text/plain": [
       "array([0.        , 1.57079633])"
      ]
     },
     "execution_count": 20,
     "metadata": {},
     "output_type": "execute_result"
    }
   ],
   "source": [
    "#19 - arctan2()\n",
    "np.arctan2(np.array([0, 1]), np.array([1, 0]))"
   ]
  },
  {
   "cell_type": "markdown",
   "id": "53b1d53a",
   "metadata": {},
   "source": [
    "* element wise arctangent of X1/X2 choosing the quadrant correctly"
   ]
  },
  {
   "cell_type": "code",
   "execution_count": 21,
   "id": "ff2ab2ea",
   "metadata": {},
   "outputs": [
    {
     "data": {
      "text/plain": [
       "array([ 0.        , -0.54930614])"
      ]
     },
     "execution_count": 21,
     "metadata": {},
     "output_type": "execute_result"
    }
   ],
   "source": [
    "#20 - arctanh()\n",
    "np.arctanh(np.array([0, -0.5]))"
   ]
  },
  {
   "cell_type": "markdown",
   "id": "fdccf025",
   "metadata": {},
   "source": [
    "* return the inverse hyperbolic tan, elementwise"
   ]
  },
  {
   "cell_type": "code",
   "execution_count": 22,
   "id": "7f19113d",
   "metadata": {},
   "outputs": [
    {
     "data": {
      "text/plain": [
       "30"
      ]
     },
     "execution_count": 22,
     "metadata": {},
     "output_type": "execute_result"
    }
   ],
   "source": [
    "#21 - argmax()\n",
    "a = np.array([10,20,30])\n",
    "maxindex = a.argmax()\n",
    "a[maxindex]"
   ]
  },
  {
   "cell_type": "code",
   "execution_count": 23,
   "id": "07fc73f8",
   "metadata": {},
   "outputs": [
    {
     "data": {
      "text/plain": [
       "3"
      ]
     },
     "execution_count": 23,
     "metadata": {},
     "output_type": "execute_result"
    }
   ],
   "source": [
    "a = np.array([[10,50,30],[60,20,40]])\n",
    "maxindex = a.argmax()\n",
    "maxindex\n",
    "#a"
   ]
  },
  {
   "cell_type": "code",
   "execution_count": 24,
   "id": "3c9403fe",
   "metadata": {},
   "outputs": [
    {
     "data": {
      "text/plain": [
       "array([1, 0, 1], dtype=int64)"
      ]
     },
     "execution_count": 24,
     "metadata": {},
     "output_type": "execute_result"
    }
   ],
   "source": [
    " a.argmax(axis=0)                               # for each column: the row index of the maximum value"
   ]
  },
  {
   "cell_type": "code",
   "execution_count": 25,
   "id": "7d03e65a",
   "metadata": {},
   "outputs": [
    {
     "data": {
      "text/plain": [
       "array([1, 0], dtype=int64)"
      ]
     },
     "execution_count": 25,
     "metadata": {},
     "output_type": "execute_result"
    }
   ],
   "source": [
    "a.argmax(axis=1)                                  # for each row: the column index of the maximum value"
   ]
  },
  {
   "cell_type": "markdown",
   "id": "3534eadf",
   "metadata": {},
   "source": [
    "* returns the maximum value along the given axis"
   ]
  },
  {
   "cell_type": "code",
   "execution_count": 26,
   "id": "b18d44d3",
   "metadata": {},
   "outputs": [
    {
     "data": {
      "text/plain": [
       "10"
      ]
     },
     "execution_count": 26,
     "metadata": {},
     "output_type": "execute_result"
    }
   ],
   "source": [
    "#22 - argmin()\n",
    "a = np.array([10,20,30])\n",
    "minindex = a.argmin()\n",
    "a[minindex]"
   ]
  },
  {
   "cell_type": "code",
   "execution_count": 27,
   "id": "8c86e6c2",
   "metadata": {},
   "outputs": [
    {
     "data": {
      "text/plain": [
       "array([[10, 50, 30],\n",
       "       [60, 20, 40]])"
      ]
     },
     "execution_count": 27,
     "metadata": {},
     "output_type": "execute_result"
    }
   ],
   "source": [
    "a = np.array([[10,50,30],[60,20,40]])\n",
    "minindex = a.argmin()\n",
    "minindex\n",
    "a"
   ]
  },
  {
   "cell_type": "code",
   "execution_count": 28,
   "id": "990e66e9",
   "metadata": {},
   "outputs": [
    {
     "data": {
      "text/plain": [
       "array([0, 1, 0], dtype=int64)"
      ]
     },
     "execution_count": 28,
     "metadata": {},
     "output_type": "execute_result"
    }
   ],
   "source": [
    "a.argmin(axis=0)                                 # for each column: the row index of the minimum value"
   ]
  },
  {
   "cell_type": "markdown",
   "id": "43b075b3",
   "metadata": {},
   "source": [
    "* returns the minimum value along the given axis"
   ]
  },
  {
   "cell_type": "code",
   "execution_count": 29,
   "id": "99c648f2",
   "metadata": {},
   "outputs": [
    {
     "data": {
      "text/plain": [
       "array([1, 4, 0, 3, 2, 5], dtype=int64)"
      ]
     },
     "execution_count": 29,
     "metadata": {},
     "output_type": "execute_result"
    }
   ],
   "source": [
    "#23 - argsort()\n",
    "a = np.array([2,0,8,4,1,9])\n",
    "ind = a.argsort()                                  # indices of sorted array using quicksort (default)\n",
    "ind"
   ]
  },
  {
   "cell_type": "code",
   "execution_count": 30,
   "id": "f5de348a",
   "metadata": {},
   "outputs": [
    {
     "data": {
      "text/plain": [
       "array([[8, 4, 1],\n",
       "       [2, 0, 9]])"
      ]
     },
     "execution_count": 30,
     "metadata": {},
     "output_type": "execute_result"
    }
   ],
   "source": [
    "ind = a.argsort(kind='merge')                         # algorithm options are 'quicksort', 'mergesort' and 'heapsort'\n",
    "a = np.array([[8,4,1],[2,0,9]])\n",
    "a"
   ]
  },
  {
   "cell_type": "code",
   "execution_count": 31,
   "id": "0ff30f93",
   "metadata": {},
   "outputs": [
    {
     "data": {
      "text/plain": [
       "array([[1, 1, 0],\n",
       "       [0, 0, 1]], dtype=int64)"
      ]
     },
     "execution_count": 31,
     "metadata": {},
     "output_type": "execute_result"
    }
   ],
   "source": [
    "ind = a.argsort(axis=0)                          # sorts on columns. NOT the same as a.sort(axis=1)\n",
    "ind"
   ]
  },
  {
   "cell_type": "code",
   "execution_count": 32,
   "id": "49fa2adb",
   "metadata": {},
   "outputs": [
    {
     "data": {
      "text/plain": [
       "array([[2, 1, 0],\n",
       "       [1, 0, 2]], dtype=int64)"
      ]
     },
     "execution_count": 32,
     "metadata": {},
     "output_type": "execute_result"
    }
   ],
   "source": [
    "ind = a.argsort(axis=1)                                  # sort along rows. Can use a.argsort(axis=-1) for last axis.\n",
    "ind"
   ]
  },
  {
   "cell_type": "markdown",
   "id": "f769a0a8",
   "metadata": {},
   "source": [
    "* returns the index of Array in sorted manner"
   ]
  },
  {
   "cell_type": "code",
   "execution_count": 33,
   "id": "2b5f9ebe",
   "metadata": {},
   "outputs": [
    {
     "data": {
      "text/plain": [
       "array([1, 2, 3])"
      ]
     },
     "execution_count": 33,
     "metadata": {},
     "output_type": "execute_result"
    }
   ],
   "source": [
    "#24 -array(\n",
    "np.array([1,2,3])                       # conversion from a list to an array"
   ]
  },
  {
   "cell_type": "markdown",
   "id": "52388d01",
   "metadata": {},
   "source": [
    "* creates an array"
   ]
  },
  {
   "cell_type": "code",
   "execution_count": 34,
   "id": "0c7b47ab",
   "metadata": {},
   "outputs": [
    {
     "data": {
      "text/plain": [
       "[array([[1, 2, 3, 4]]), array([[5, 6, 7, 8]])]"
      ]
     },
     "execution_count": 34,
     "metadata": {},
     "output_type": "execute_result"
    }
   ],
   "source": [
    "#25 - array_split\n",
    "a = np.array([[1,2,3,4],[5,6,7,8]])\n",
    "np.array_split(a,2,axis=0)                                       # split a in 2 parts. row-wise"
   ]
  },
  {
   "cell_type": "markdown",
   "id": "79e8207a",
   "metadata": {},
   "source": [
    "* split an array into multiple arrays"
   ]
  },
  {
   "cell_type": "code",
   "execution_count": 35,
   "id": "b0d296d8",
   "metadata": {},
   "outputs": [
    {
     "data": {
      "text/plain": [
       "matrix([[1, 2],\n",
       "        [5, 8]])"
      ]
     },
     "execution_count": 35,
     "metadata": {},
     "output_type": "execute_result"
    }
   ],
   "source": [
    "#26 - asarray()\n",
    "m = np.matrix('1 2; 5 8')\n",
    "m\n"
   ]
  },
  {
   "cell_type": "code",
   "execution_count": 36,
   "id": "a79a97c2",
   "metadata": {},
   "outputs": [
    {
     "data": {
      "text/plain": [
       "array([[1, 2],\n",
       "       [5, 8]])"
      ]
     },
     "execution_count": 36,
     "metadata": {},
     "output_type": "execute_result"
    }
   ],
   "source": [
    "a = np.asarray(m)                           # a is array type with same contents as m -- data is not copied\n",
    "a"
   ]
  },
  {
   "cell_type": "markdown",
   "id": "8cdf5f49",
   "metadata": {},
   "source": [
    "* converts input(any data structure) into array"
   ]
  },
  {
   "cell_type": "code",
   "execution_count": 37,
   "id": "e1c7b18d",
   "metadata": {},
   "outputs": [
    {
     "data": {
      "text/plain": [
       "matrix([[1, 2],\n",
       "        [5, 8]])"
      ]
     },
     "execution_count": 37,
     "metadata": {},
     "output_type": "execute_result"
    }
   ],
   "source": [
    "#27 asanyarray()\n",
    "np.asanyarray(m)"
   ]
  },
  {
   "cell_type": "code",
   "execution_count": 38,
   "id": "ee187425",
   "metadata": {},
   "outputs": [
    {
     "data": {
      "text/plain": [
       "array([1, 2, 3])"
      ]
     },
     "execution_count": 38,
     "metadata": {},
     "output_type": "execute_result"
    }
   ],
   "source": [
    "a=[1,2,3]\n",
    "np.asanyarray(a)"
   ]
  },
  {
   "cell_type": "markdown",
   "id": "aac9be1c",
   "metadata": {},
   "source": [
    "* convert non array form to array form"
   ]
  },
  {
   "cell_type": "code",
   "execution_count": 39,
   "id": "dd0756b6",
   "metadata": {},
   "outputs": [
    {
     "data": {
      "text/plain": [
       "array([[1, 2],\n",
       "       [5, 8]])"
      ]
     },
     "execution_count": 39,
     "metadata": {},
     "output_type": "execute_result"
    }
   ],
   "source": [
    "#28 - asmatrix\n",
    "a = np.array([[1,2],[5,8]])\n",
    "a"
   ]
  },
  {
   "cell_type": "code",
   "execution_count": 40,
   "id": "902e26c5",
   "metadata": {},
   "outputs": [
    {
     "data": {
      "text/plain": [
       "matrix([[1, 2],\n",
       "        [5, 8]])"
      ]
     },
     "execution_count": 40,
     "metadata": {},
     "output_type": "execute_result"
    }
   ],
   "source": [
    "m = np.asmatrix(a)                                # m is matrix type with same contents as a -- data is not copied\n",
    "m"
   ]
  },
  {
   "cell_type": "code",
   "execution_count": 41,
   "id": "ef5970f6",
   "metadata": {},
   "outputs": [
    {
     "data": {
      "text/plain": [
       "matrix([[1, 2, 3]])"
      ]
     },
     "execution_count": 41,
     "metadata": {},
     "output_type": "execute_result"
    }
   ],
   "source": [
    "a=[1,2,3]\n",
    "np.asmatrix(a)"
   ]
  },
  {
   "cell_type": "markdown",
   "id": "a9d0e828",
   "metadata": {},
   "source": [
    "* converts input(any data structure) into matrixs"
   ]
  },
  {
   "cell_type": "code",
   "execution_count": 42,
   "id": "89f2dcaf",
   "metadata": {},
   "outputs": [
    {
     "name": "stdout",
     "output_type": "stream",
     "text": [
      "['1' '2' '3']\n"
     ]
    },
    {
     "name": "stderr",
     "output_type": "stream",
     "text": [
      "C:\\Users\\DELL\\AppData\\Local\\Temp\\ipykernel_5364\\3254327192.py:3: DeprecationWarning: `np.str` is a deprecated alias for the builtin `str`. To silence this warning, use `str` by itself. Doing this will not modify any behavior and is safe. If you specifically wanted the numpy scalar type, use `np.str_` here.\n",
      "Deprecated in NumPy 1.20; for more details and guidance: https://numpy.org/devdocs/release/1.20.0-notes.html#deprecations\n",
      "  y = x.astype(np.str)                                   # convert from int32 to string\n"
     ]
    },
    {
     "data": {
      "text/plain": [
       "array(['1', '2', '3'], dtype='<U11')"
      ]
     },
     "execution_count": 42,
     "metadata": {},
     "output_type": "execute_result"
    }
   ],
   "source": [
    "#29 - astype\n",
    "x = np.array([1,2,3])\n",
    "y = x.astype(np.str)                                   # convert from int32 to string\n",
    "type(y[0])\n",
    "print(y)     \n",
    "x.astype(str)                                       # None implies converting to the default (float64)"
   ]
  },
  {
   "cell_type": "markdown",
   "id": "45468e71",
   "metadata": {},
   "source": [
    "* copy of the array and convert to a specified type default = float"
   ]
  },
  {
   "cell_type": "code",
   "execution_count": 43,
   "id": "83c90d73",
   "metadata": {},
   "outputs": [
    {
     "data": {
      "text/plain": [
       "list"
      ]
     },
     "execution_count": 43,
     "metadata": {},
     "output_type": "execute_result"
    }
   ],
   "source": [
    "#30,31,32 - atleast_1d, atleast_2d, atleast_3d\n",
    "a = [1,2,3]                                                 # 0-d array\n",
    "b = np.array([2,3])                                    # 1-d array\n",
    "c = np.array([[4,5],[6,7]])                           # 2-d array\n",
    "d = np.arange(8).reshape(2,2,2)                       # 3-d array\n",
    "d\n",
    "type(a)"
   ]
  },
  {
   "cell_type": "code",
   "execution_count": 44,
   "id": "5b98ae2d",
   "metadata": {},
   "outputs": [
    {
     "data": {
      "text/plain": [
       "[array([[[1],\n",
       "         [2],\n",
       "         [3]]]),\n",
       " array([[[2],\n",
       "         [3]]]),\n",
       " array([[[4],\n",
       "         [5]],\n",
       " \n",
       "        [[6],\n",
       "         [7]]]),\n",
       " array([[[0, 1],\n",
       "         [2, 3]],\n",
       " \n",
       "        [[4, 5],\n",
       "         [6, 7]]])]"
      ]
     },
     "execution_count": 44,
     "metadata": {},
     "output_type": "execute_result"
    }
   ],
   "source": [
    "np.atleast_3d(a,b,c,d)                                       # all output arrays have dim >= 1"
   ]
  },
  {
   "cell_type": "markdown",
   "id": "3f794957",
   "metadata": {},
   "source": [
    "* convert input to array with at least one dimension, two dimension ,three dimension"
   ]
  },
  {
   "cell_type": "code",
   "execution_count": 45,
   "id": "73caf503",
   "metadata": {},
   "outputs": [
    {
     "name": "stdout",
     "output_type": "stream",
     "text": [
      "0.24\n"
     ]
    },
    {
     "data": {
      "text/plain": [
       "3.1666666666666665"
      ]
     },
     "execution_count": 45,
     "metadata": {},
     "output_type": "execute_result"
    }
   ],
   "source": [
    "#33 - average\n",
    "a = np.array([1,2,3,4,5])\n",
    "w = np.array([0.1, 0.2, 0.5, 0.2, 0.2])                   # weights, not necessarily normalized\n",
    "print(np.average(w))                                            # plain mean value\n",
    "np.average(a,weights=w)                                      # weighted average"
   ]
  },
  {
   "cell_type": "markdown",
   "id": "d19ae11a",
   "metadata": {},
   "source": [
    "* returns weighted average along axis\n",
    "* avg = sum(a*weights)/weights"
   ]
  },
  {
   "cell_type": "code",
   "execution_count": 46,
   "id": "bc862d28",
   "metadata": {},
   "outputs": [
    {
     "data": {
      "text/plain": [
       "array([[0.06496723, 0.12938435],\n",
       "       [0.04132258, 0.10398167]])"
      ]
     },
     "execution_count": 46,
     "metadata": {},
     "output_type": "execute_result"
    }
   ],
   "source": [
    "#34 -beta\n",
    "np.random.beta(a=1,b=5,size=(2,2))                               # Beta distribution alpha=1, beta=10"
   ]
  },
  {
   "cell_type": "markdown",
   "id": "61f29034",
   "metadata": {},
   "source": [
    "* draw samples from a beta distribution"
   ]
  },
  {
   "cell_type": "code",
   "execution_count": 47,
   "id": "149fb888",
   "metadata": {},
   "outputs": [
    {
     "data": {
      "text/plain": [
       "'11001'"
      ]
     },
     "execution_count": 47,
     "metadata": {},
     "output_type": "execute_result"
    }
   ],
   "source": [
    "#35 - binary_repr\n",
    "a = 25\n",
    "np.binary_repr(a)                                        # binary representation of 25"
   ]
  },
  {
   "cell_type": "markdown",
   "id": "ff447234",
   "metadata": {},
   "source": [
    "* returns the binary representation of the input in the form of a string"
   ]
  },
  {
   "cell_type": "code",
   "execution_count": 48,
   "id": "908372cd",
   "metadata": {},
   "outputs": [
    {
     "name": "stdout",
     "output_type": "stream",
     "text": [
      "[0 4 2 0 2 1 3]\n"
     ]
    }
   ],
   "source": [
    "#36 - bincount\n",
    "a = np.array([2,2,4,4,5,6,6,6,1,1,1,1])              \n",
    "print(np.bincount(a))                         # 0 occurs 0 times, 1 occurs 4 times, 2 occurs twice, 3 occurs 0 times, ...\n"
   ]
  },
  {
   "cell_type": "code",
   "execution_count": 49,
   "id": "a92bf9cc",
   "metadata": {},
   "outputs": [
    {
     "data": {
      "text/plain": [
       "array([0. , 0. , 0.8, 0. , 0.3, 0.1])"
      ]
     },
     "execution_count": 49,
     "metadata": {},
     "output_type": "execute_result"
    }
   ],
   "source": [
    "a = np.array([5,4,4,2,2])\n",
    "w = np.array([0.1, 0.2, 0.1, 0.3, 0.5])\n",
    "np.bincount(a,weights=w)                      # 0 & 1 don't occur, 2 occurs twice, 3 doesn't occur, 4 occurs twice, 5 once"
   ]
  },
  {
   "cell_type": "markdown",
   "id": "06fee011",
   "metadata": {},
   "source": [
    "* returns the number of occurrences or frequencies of all elements in an array or input, starts from 0 to given range.\n",
    "* input is always int"
   ]
  },
  {
   "cell_type": "code",
   "execution_count": 50,
   "id": "4f6a33d8",
   "metadata": {},
   "outputs": [
    {
     "data": {
      "text/plain": [
       "array([[53, 54, 48],\n",
       "       [43, 48, 51]])"
      ]
     },
     "execution_count": 50,
     "metadata": {},
     "output_type": "execute_result"
    }
   ],
   "source": [
    "#37 - binomial\n",
    "np.random.binomial(n=100,p=0.5,size=(2,3))                   # binomial distribution n trials, p= success probability"
   ]
  },
  {
   "cell_type": "markdown",
   "id": "5da3251c",
   "metadata": {},
   "source": [
    "* draw samples from Binomial Distribution \n",
    "* Binomial Distribution is a discrete distribution which expresses the probability of a given number of successes of n      independent experiments with known probability of success in each trial.\n",
    "* the difference between normal distribution and Binomial Distribution is continuous values and Binomial have discrete distribution\n",
    "* n=number of trials\n",
    "* p=probability of success on each trial\n",
    "\n",
    "\n"
   ]
  },
  {
   "cell_type": "code",
   "execution_count": 51,
   "id": "94723b0d",
   "metadata": {},
   "outputs": [
    {
     "data": {
      "text/plain": [
       "array([0, 4, 4], dtype=int32)"
      ]
     },
     "execution_count": 51,
     "metadata": {},
     "output_type": "execute_result"
    }
   ],
   "source": [
    "#38 - bitwise_and\n",
    "np.bitwise_and(np.array([2,5,5]), np.array([4,4,4]))"
   ]
  },
  {
   "cell_type": "markdown",
   "id": "aa42a86e",
   "metadata": {},
   "source": [
    "* return the values of bitwise and of two arrays element wise"
   ]
  },
  {
   "cell_type": "code",
   "execution_count": 52,
   "id": "4df15e4a",
   "metadata": {},
   "outputs": [
    {
     "data": {
      "text/plain": [
       "array([6, 5, 5], dtype=int32)"
      ]
     },
     "execution_count": 52,
     "metadata": {},
     "output_type": "execute_result"
    }
   ],
   "source": [
    "#39 -bitwise_or\n",
    "np.bitwise_or(np.array([2,5,5]), np.array([4,4,4]))"
   ]
  },
  {
   "cell_type": "markdown",
   "id": "dc26ace9",
   "metadata": {},
   "source": [
    "* return the values ofbitwise_or of two arrays element wise"
   ]
  },
  {
   "cell_type": "code",
   "execution_count": 53,
   "id": "f4d8ce0c",
   "metadata": {},
   "outputs": [
    {
     "data": {
      "text/plain": [
       "array([6, 1, 1], dtype=int32)"
      ]
     },
     "execution_count": 53,
     "metadata": {},
     "output_type": "execute_result"
    }
   ],
   "source": [
    "#40- bitwise_xor                                                                        #both not 1 or both not 0\n",
    "np.bitwise_xor(np.array([2,5,5]), np.array([4,4,4]))"
   ]
  },
  {
   "cell_type": "markdown",
   "id": "6e8dccf9",
   "metadata": {},
   "source": [
    "* return the values of bitwise_xor of two arrays element wise"
   ]
  },
  {
   "cell_type": "code",
   "execution_count": 54,
   "id": "42d6b939",
   "metadata": {},
   "outputs": [
    {
     "data": {
      "text/plain": [
       "matrix([[1, 2, 5, 6],\n",
       "        [3, 4, 7, 8],\n",
       "        [5, 6, 1, 2],\n",
       "        [7, 8, 3, 4]])"
      ]
     },
     "execution_count": 54,
     "metadata": {},
     "output_type": "execute_result"
    }
   ],
   "source": [
    "#41  - bmat\n",
    "a = np.mat('1 2; 3 4')\n",
    "b = np.mat('5 6; 7 8')\n",
    "np.bmat('a b; b a')                            # all elements must be existing symbols"
   ]
  },
  {
   "cell_type": "markdown",
   "id": "d2a2e44c",
   "metadata": {},
   "source": [
    "* create some metric object from a string of a given sequence---2D"
   ]
  },
  {
   "cell_type": "code",
   "execution_count": 55,
   "id": "929d17c2",
   "metadata": {},
   "outputs": [
    {
     "data": {
      "text/plain": [
       "3"
      ]
     },
     "execution_count": 55,
     "metadata": {},
     "output_type": "execute_result"
    }
   ],
   "source": [
    "#42 - broadcast\n",
    "a = np.array([[[1,2],[3,4],[4,5]]])\n",
    "b = np.array([5,6])\n",
    "c = np.broadcast(a,b)\n",
    "c.nd"
   ]
  },
  {
   "cell_type": "markdown",
   "id": "aab03945",
   "metadata": {},
   "source": [
    "* describe how numpy treats array with different shapes during automatic operation---1D,2D,3D"
   ]
  },
  {
   "cell_type": "code",
   "execution_count": 56,
   "id": "2e42d079",
   "metadata": {},
   "outputs": [
    {
     "data": {
      "text/plain": [
       "6"
      ]
     },
     "execution_count": 56,
     "metadata": {},
     "output_type": "execute_result"
    }
   ],
   "source": [
    "c.size                                           # number of elements along axis"
   ]
  },
  {
   "cell_type": "code",
   "execution_count": 57,
   "id": "91ae6b39",
   "metadata": {},
   "outputs": [
    {
     "name": "stdout",
     "output_type": "stream",
     "text": [
      "b'j\\xc4\\x07y\\xf8'\n"
     ]
    }
   ],
   "source": [
    "#43 - bytes\n",
    "\n",
    "print(np.random.bytes(5))                          # string of 5 random bytes"
   ]
  },
  {
   "cell_type": "markdown",
   "id": "b69edf61",
   "metadata": {},
   "source": [
    "* convert an object to an immutable byte presented object of given size and data"
   ]
  },
  {
   "cell_type": "code",
   "execution_count": 58,
   "id": "7c070161",
   "metadata": {},
   "outputs": [
    {
     "name": "stdout",
     "output_type": "stream",
     "text": [
      "[[1]\n",
      " [2]\n",
      " [3]\n",
      " [4]]\n",
      "[[1 2]\n",
      " [2 3]\n",
      " [3 4]\n",
      " [4 5]]\n"
     ]
    }
   ],
   "source": [
    "#44 - c_[]\n",
    "print(np.c_[1:5])                                      # for single ranges, c_ works like r_\n",
    "print(np.c_[1:5,2:6])                                  # for comma separated values, c_ stacks column-wise\n"
   ]
  },
  {
   "cell_type": "markdown",
   "id": "3fa72e2e",
   "metadata": {},
   "source": [
    "* create a metric between the given range"
   ]
  },
  {
   "cell_type": "code",
   "execution_count": 59,
   "id": "304a5307",
   "metadata": {},
   "outputs": [
    {
     "name": "stdout",
     "output_type": "stream",
     "text": [
      "int32\n",
      "[0 1 2]\n"
     ]
    },
    {
     "data": {
      "text/plain": [
       "array([0, 1, 2], dtype=uint32)"
      ]
     },
     "execution_count": 59,
     "metadata": {},
     "output_type": "execute_result"
    }
   ],
   "source": [
    "#45 - cast[]()\n",
    "x = np.arange(3)\n",
    "print(x.dtype)\n",
    "y=np.cast['int64'](x)\n",
    "print(y)\n",
    "z=np.cast['uint'](x)\n",
    "z"
   ]
  },
  {
   "cell_type": "markdown",
   "id": "b2668429",
   "metadata": {},
   "source": [
    "* casting or converting input to a required specified dtype\n"
   ]
  },
  {
   "cell_type": "code",
   "execution_count": 60,
   "id": "f443dc3c",
   "metadata": {},
   "outputs": [
    {
     "data": {
      "text/plain": [
       "array([-1., -1., -0.,  1.,  2.,  2.])"
      ]
     },
     "execution_count": 60,
     "metadata": {},
     "output_type": "execute_result"
    }
   ],
   "source": [
    "#46 - ceil()\n",
    "a = np.array([-1.7, -1.5, -0.2, 0.2, 1.5, 1.7])\n",
    "np.ceil(a)                                                   # nearest integers greater-than or equal to a"
   ]
  },
  {
   "cell_type": "markdown",
   "id": "4e0e58f5",
   "metadata": {},
   "source": [
    "* compute smaller integer that is greater than or equal to a"
   ]
  },
  {
   "cell_type": "code",
   "execution_count": 61,
   "id": "05b57013",
   "metadata": {},
   "outputs": [
    {
     "data": {
      "text/plain": [
       "array([10, 15, 20, 10, 13])"
      ]
     },
     "execution_count": 61,
     "metadata": {},
     "output_type": "execute_result"
    }
   ],
   "source": [
    "#47 - clip\n",
    "a = np.array([5,15,25,3,13])\n",
    "a.clip(min=10,max=20)                                # value<10 = 10 and value>20 = 20"
   ]
  },
  {
   "cell_type": "markdown",
   "id": "2066f559",
   "metadata": {},
   "source": [
    "* returns an array within the given limit (min, Max)\n",
    "* all the values less than 10 is 10\n",
    "* all the values more than 20 is 20"
   ]
  },
  {
   "cell_type": "code",
   "execution_count": 62,
   "id": "d1674b5f",
   "metadata": {},
   "outputs": [
    {
     "data": {
      "text/plain": [
       "array([[1, 3, 5],\n",
       "       [2, 4, 6]])"
      ]
     },
     "execution_count": 62,
     "metadata": {},
     "output_type": "execute_result"
    }
   ],
   "source": [
    "#48 - column_stack\n",
    "a = np.array([1,2])\n",
    "b = np.array([3,4])\n",
    "c = np.array([5,6])\n",
    "np.column_stack((a,b,c))                            # a,b,c are 1-d arrays with equal length"
   ]
  },
  {
   "cell_type": "markdown",
   "id": "82c8ff71",
   "metadata": {},
   "source": [
    "* converts one dimensional array column into two dimensional"
   ]
  },
  {
   "cell_type": "code",
   "execution_count": 63,
   "id": "7a957162",
   "metadata": {},
   "outputs": [
    {
     "name": "stdout",
     "output_type": "stream",
     "text": [
      "[ True  True  True False]\n",
      "[25 20 30]\n"
     ]
    }
   ],
   "source": [
    "#49 - compress\n",
    "a = np.array([25, 20, 30, 40])\n",
    "condition = (a > 15) & (a < 35)\n",
    "print(condition)\n",
    "print(a.compress(condition))"
   ]
  },
  {
   "cell_type": "markdown",
   "id": "1abb2063",
   "metadata": {},
   "source": [
    "* it will compress or remove the elements which returns false in the array and execute or returns the values which are true"
   ]
  },
  {
   "cell_type": "code",
   "execution_count": 64,
   "id": "af589257",
   "metadata": {},
   "outputs": [
    {
     "data": {
      "text/plain": [
       "array([[1, 2],\n",
       "       [3, 4],\n",
       "       [5, 6],\n",
       "       [7, 8]])"
      ]
     },
     "execution_count": 64,
     "metadata": {},
     "output_type": "execute_result"
    }
   ],
   "source": [
    "#50 - concatenate\n",
    "x = np.array([[1,2],[3,4]])\n",
    "y = np.array([[5,6],[7,8]])\n",
    "np.concatenate((x,y))                                       # default is axis=0"
   ]
  },
  {
   "cell_type": "markdown",
   "id": "cb12ad44",
   "metadata": {},
   "source": [
    "* joining of arrays along the given axis--default= axis=0"
   ]
  },
  {
   "cell_type": "code",
   "execution_count": 65,
   "id": "29d6c41c",
   "metadata": {},
   "outputs": [
    {
     "data": {
      "text/plain": [
       "array([1.-2.j, 3.+4.j])"
      ]
     },
     "execution_count": 65,
     "metadata": {},
     "output_type": "execute_result"
    }
   ],
   "source": [
    "#51 - conj\n",
    "a = np.array([1+2j,3-4j])\n",
    "a.conj()                                                   # .conj() and .conjugate() are the same"
   ]
  },
  {
   "cell_type": "markdown",
   "id": "23dfa755",
   "metadata": {},
   "source": [
    "* the conjugate of a complex number is obtained by changing the sign of its imaginary part\n"
   ]
  },
  {
   "cell_type": "code",
   "execution_count": 66,
   "id": "2ccd25f3",
   "metadata": {},
   "outputs": [
    {
     "name": "stdout",
     "output_type": "stream",
     "text": [
      "[1 2 3]\n",
      "[1 4 3]\n",
      "[1 2 3]\n",
      "[1 4 3]\n"
     ]
    }
   ],
   "source": [
    "#52 - copy\n",
    "\n",
    "a = np.array([1,2,3])\n",
    "print(a)\n",
    "\n",
    "b = a                                                   # b is a reference to a\n",
    "b[1] = 4\n",
    "print(a)\n",
    "\n",
    "a = np.array([1,2,3])\n",
    "b = a.copy()                                             # b is now an independent copy of a\n",
    "b[1] = 4\n",
    "print(a)\n",
    "print(b)"
   ]
  },
  {
   "cell_type": "markdown",
   "id": "7cda3351",
   "metadata": {},
   "source": [
    "* returns a copy of array"
   ]
  },
  {
   "cell_type": "code",
   "execution_count": 67,
   "id": "544619e0",
   "metadata": {},
   "outputs": [
    {
     "name": "stdout",
     "output_type": "stream",
     "text": [
      "[[1.         0.98062258]\n",
      " [0.98062258 1.        ]]\n"
     ]
    }
   ],
   "source": [
    "#53 - corrcoef\n",
    "T = np.array([1.3, 4.5, 2.8, 3.9])                     # temperature measurements\n",
    "P = np.array([2.7, 8.7, 4.7, 8.2])                     # corresponding pressure measurements\n",
    "print(np.corrcoef([T,P]))                              # correlation matrix of temperature and pressure"
   ]
  },
  {
   "cell_type": "markdown",
   "id": "3c5ad9e6",
   "metadata": {},
   "source": [
    "* returns a pearson product correlation coefficient "
   ]
  },
  {
   "cell_type": "code",
   "execution_count": 68,
   "id": "59d854b6",
   "metadata": {},
   "outputs": [
    {
     "data": {
      "text/plain": [
       "array([ 1.        , -0.59846007])"
      ]
     },
     "execution_count": 68,
     "metadata": {},
     "output_type": "execute_result"
    }
   ],
   "source": [
    "#54 - cos()\n",
    "np.cos(np.array([0,180]))\n"
   ]
  },
  {
   "cell_type": "markdown",
   "id": "43ba01c1",
   "metadata": {},
   "source": [
    "* Returns the cosine of value passed as argument.\n",
    "* returns a numeric value between -1 and 1, which represents the cosine of the angle."
   ]
  },
  {
   "cell_type": "code",
   "execution_count": 69,
   "id": "7079be22",
   "metadata": {},
   "outputs": [
    {
     "name": "stdout",
     "output_type": "stream",
     "text": [
      "[[1.97583333 3.95416667]\n",
      " [3.95416667 8.22916667]]\n"
     ]
    }
   ],
   "source": [
    "#55 - cov()\n",
    "x = np.array([1., 3., 8., 9.])\n",
    "variance = np.cov(x)                                 # normalized by N-1\n",
    "variance = np.cov(x, bias=1)                         # normalized by N\n",
    "\n",
    "\n",
    "T = np.array([1.3, 4.5, 2.8, 3.9])                     # temperature measurements\n",
    "P = np.array([2.7, 8.7, 4.7, 8.2])                     # corresponding pressure measurements\n",
    "print(np.cov(T,P))                                     # covariance between temperature and pressure"
   ]
  },
  {
   "cell_type": "markdown",
   "id": "49dcc949",
   "metadata": {},
   "source": [
    "* Covariance indicates the level to which two variables vary together.\n",
    "* that means return a matrix of relation between T and P "
   ]
  },
  {
   "cell_type": "code",
   "execution_count": 70,
   "id": "e661ef93",
   "metadata": {},
   "outputs": [
    {
     "data": {
      "text/plain": [
       "array([-3,  6, -3])"
      ]
     },
     "execution_count": 70,
     "metadata": {},
     "output_type": "execute_result"
    }
   ],
   "source": [
    "#56 - cross()\n",
    "x = np.array([1,2,3])\n",
    "y = np.array([4,5,6])\n",
    "np.cross(x,y)                                        # vector cross-product"
   ]
  },
  {
   "cell_type": "markdown",
   "id": "89e9a93d",
   "metadata": {},
   "source": [
    "* return the cross product of two arrary/matrix"
   ]
  },
  {
   "cell_type": "code",
   "execution_count": 71,
   "id": "8001c588",
   "metadata": {},
   "outputs": [
    {
     "data": {
      "text/plain": [
       "array([1, 2, 6], dtype=int32)"
      ]
     },
     "execution_count": 71,
     "metadata": {},
     "output_type": "execute_result"
    }
   ],
   "source": [
    "#57 - cumprod()\n",
    "a = np.array([1,2,3])\n",
    "np.cumprod(a)                                        # total product 1*2*3 = 6, and intermediate results 1, 1*2"
   ]
  },
  {
   "cell_type": "code",
   "execution_count": 72,
   "id": "14e95674",
   "metadata": {},
   "outputs": [
    {
     "data": {
      "text/plain": [
       "array([[  1.,   2.,   6.],\n",
       "       [  4.,  20., 120.]])"
      ]
     },
     "execution_count": 72,
     "metadata": {},
     "output_type": "execute_result"
    }
   ],
   "source": [
    "a = np.array([[1,2,3],[4,5,6]])\n",
    "np.cumprod(a,dtype=float,axis=1)                      # specify type of output"
   ]
  },
  {
   "cell_type": "markdown",
   "id": "0fab837a",
   "metadata": {},
   "source": [
    "* Return the cumulative product of elements along a given axis.\n"
   ]
  },
  {
   "cell_type": "code",
   "execution_count": 73,
   "id": "e157c18e",
   "metadata": {},
   "outputs": [
    {
     "data": {
      "text/plain": [
       "array([1, 3, 6], dtype=int32)"
      ]
     },
     "execution_count": 73,
     "metadata": {},
     "output_type": "execute_result"
    }
   ],
   "source": [
    "#58 - cumsum()\n",
    "a = np.array([1,2,3])                                   # cumulative sum = intermediate summing results & total sum\n",
    "np.cumsum(a)"
   ]
  },
  {
   "cell_type": "markdown",
   "id": "17b97559",
   "metadata": {},
   "source": [
    "* Return the cumulative sum of elements along a given axis."
   ]
  },
  {
   "cell_type": "code",
   "execution_count": 74,
   "id": "47bda6fa",
   "metadata": {},
   "outputs": [
    {
     "data": {
      "text/plain": [
       "array([ 0, 10, 30])"
      ]
     },
     "execution_count": 74,
     "metadata": {},
     "output_type": "execute_result"
    }
   ],
   "source": [
    "#59 - delete()\n",
    "a = np.array([0, 10, 20, 30, 40])\n",
    "np.delete(a, [2,4])                                            # remove a[2] and a[4]\n"
   ]
  },
  {
   "cell_type": "markdown",
   "id": "eb4b9284",
   "metadata": {},
   "source": [
    "* returns an array with remaining elements after deleting."
   ]
  },
  {
   "cell_type": "code",
   "execution_count": 75,
   "id": "8a958d0c",
   "metadata": {},
   "outputs": [
    {
     "data": {
      "text/plain": [
       "-2.0000000000000004"
      ]
     },
     "execution_count": 75,
     "metadata": {},
     "output_type": "execute_result"
    }
   ],
   "source": [
    "#60 - det()\n",
    "A = np.array([[1., 2.],[3., 4.]])\n",
    "np.linalg.det(A)                                            # determinant of square matrix"
   ]
  },
  {
   "cell_type": "markdown",
   "id": "3f29226d",
   "metadata": {},
   "source": [
    "* return the determinant of the matrics"
   ]
  },
  {
   "cell_type": "code",
   "execution_count": 76,
   "id": "62e22964",
   "metadata": {},
   "outputs": [
    {
     "name": "stdout",
     "output_type": "stream",
     "text": [
      "[[ 0  1  2]\n",
      " [ 3  4  5]\n",
      " [ 6  7  8]\n",
      " [ 9 10 11]]\n",
      "[0 4 8]\n"
     ]
    }
   ],
   "source": [
    "#61 - diag()\n",
    "a = np.arange(12).reshape(4,3)\n",
    "print(a)\n",
    "print(np.diag(a,k=0))"
   ]
  },
  {
   "cell_type": "markdown",
   "id": "70a72a72",
   "metadata": {},
   "source": [
    "* Extract a diagonal or construct a diagonal array.\n",
    "* The default k is 0. Use `k>0` for diagonals\n",
    "    above the main diagonal, and `k<0` for diagonals below the main\n",
    "    diagonal."
   ]
  },
  {
   "cell_type": "code",
   "execution_count": 77,
   "id": "c1159308",
   "metadata": {},
   "outputs": [
    {
     "data": {
      "text/plain": [
       "array([[5, 0, 0, 0, 0, 0],\n",
       "       [0, 6, 0, 0, 0, 0],\n",
       "       [0, 0, 2, 0, 0, 0],\n",
       "       [0, 0, 0, 7, 0, 0],\n",
       "       [0, 0, 0, 0, 8, 0],\n",
       "       [0, 0, 0, 0, 0, 9]])"
      ]
     },
     "execution_count": 77,
     "metadata": {},
     "output_type": "execute_result"
    }
   ],
   "source": [
    "#62 - diagflat()\n",
    "x = np.array([[5,6,2],[7,8,9]])\n",
    "np.diagflat(x)                                 # flatten x, then put elements on diagonal"
   ]
  },
  {
   "cell_type": "markdown",
   "id": "4c548983",
   "metadata": {},
   "source": [
    "* Create a two-dimensional array with input elements as a diagonal.\n"
   ]
  },
  {
   "cell_type": "code",
   "execution_count": 78,
   "id": "904672ca",
   "metadata": {},
   "outputs": [
    {
     "name": "stdout",
     "output_type": "stream",
     "text": [
      "[[ 0  1  2]\n",
      " [ 3  4  5]\n",
      " [ 6  7  8]\n",
      " [ 9 10 11]\n",
      " [12 13 14]]\n"
     ]
    },
    {
     "data": {
      "text/plain": [
       "array([0, 4, 8])"
      ]
     },
     "execution_count": 78,
     "metadata": {},
     "output_type": "execute_result"
    }
   ],
   "source": [
    "#62 - diagonal()\n",
    "a = np.arange(15).reshape(5,3)\n",
    "print(a)\n",
    "np.diagonal(a)"
   ]
  },
  {
   "cell_type": "markdown",
   "id": "bac418ef",
   "metadata": {},
   "source": [
    "* Return specified diagonals -- always k=0.\n"
   ]
  },
  {
   "cell_type": "code",
   "execution_count": 79,
   "id": "82730fa6",
   "metadata": {},
   "outputs": [
    {
     "data": {
      "text/plain": [
       "array([ 1,  2,  6, -4,  5])"
      ]
     },
     "execution_count": 79,
     "metadata": {},
     "output_type": "execute_result"
    }
   ],
   "source": [
    "#63 - diff()\n",
    "x = np.array([0,1,3,9,5,10])\n",
    "np.diff(x)                                                    # 1st-order differences between the elements of x\n"
   ]
  },
  {
   "cell_type": "code",
   "execution_count": 80,
   "id": "f4d76cbb",
   "metadata": {},
   "outputs": [
    {
     "data": {
      "text/plain": [
       "array([  1,   4, -10,   9])"
      ]
     },
     "execution_count": 80,
     "metadata": {},
     "output_type": "execute_result"
    }
   ],
   "source": [
    "np.diff(x,n=2)                                             # 2nd-order differences, equivalent to diff(diff(x))"
   ]
  },
  {
   "cell_type": "markdown",
   "id": "dbeaca2d",
   "metadata": {},
   "source": [
    "* used to compute the nth difference along the given axis of an input array.\n",
    "* o/p = x[i+1] - x[i]"
   ]
  },
  {
   "cell_type": "code",
   "execution_count": 81,
   "id": "b9155a27",
   "metadata": {},
   "outputs": [
    {
     "data": {
      "text/plain": [
       "array([1, 4, 3, 2], dtype=int64)"
      ]
     },
     "execution_count": 81,
     "metadata": {},
     "output_type": "execute_result"
    }
   ],
   "source": [
    "#64 - digitize()\n",
    "x = np.array([0.2, 6.4, 3.0, 1.6])\n",
    "bins = np.array([0.0, 1.0, 2.5, 4.0, 10.0])                            # monotonically increasing\n",
    "d = np.digitize(x,bins)                                               # in which bin falls each value of x?\n",
    "d\n"
   ]
  },
  {
   "cell_type": "markdown",
   "id": "fb5b46c4",
   "metadata": {},
   "source": [
    "* Return the indices of the bins to which each value in input array belongs"
   ]
  },
  {
   "cell_type": "code",
   "execution_count": 82,
   "id": "82f9b6c7",
   "metadata": {},
   "outputs": [
    {
     "data": {
      "text/plain": [
       "array([[22, 28],\n",
       "       [49, 64]])"
      ]
     },
     "execution_count": 82,
     "metadata": {},
     "output_type": "execute_result"
    }
   ],
   "source": [
    "#65 - dot()\n",
    "x = np.array([[1,2,3],[4,5,6]])\n",
    "y = np.array([[1,2],[3,4],[5,6]])\n",
    "np.dot(x,y)                                         # matrix multiplication (2,3) x (3,2) -> (2,2)"
   ]
  },
  {
   "cell_type": "markdown",
   "id": "8cdfaf63",
   "metadata": {},
   "source": [
    "* Dot product of two arrays"
   ]
  },
  {
   "cell_type": "code",
   "execution_count": 83,
   "id": "2d710886",
   "metadata": {},
   "outputs": [
    {
     "name": "stdout",
     "output_type": "stream",
     "text": [
      "(2, 2, 1) (2, 2, 1)\n"
     ]
    }
   ],
   "source": [
    "#65 - dsplit\n",
    "a = np.array([[1,2],[3,4]])\n",
    "b = np.dstack((a,a,a,a,a,a))                                      # stacking in depth: for k in (0,..,3): b[:,:,k] = a\n",
    "\n",
    "c = np.dsplit(b,6)                                     # split, depth-wise, in 2 equal parts\n",
    "print(c[0].shape, c[1].shape)                           # for k in (0,1): c[0][:,:,k] = a and c[1][:,:,k] = a"
   ]
  },
  {
   "cell_type": "markdown",
   "id": "a7bedf2b",
   "metadata": {},
   "source": [
    "* Split array into multiple sub-arrays along the 3rd axis(z=axis) (depth).\n",
    "* dsplit() only works on arrays of 3-D or more dimensions.\n",
    "* Splits an array into multiple sub-arrays of equal size"
   ]
  },
  {
   "cell_type": "code",
   "execution_count": 84,
   "id": "967452be",
   "metadata": {},
   "outputs": [
    {
     "data": {
      "text/plain": [
       "array([[[1, 5],\n",
       "        [2, 6],\n",
       "        [5, 3]],\n",
       "\n",
       "       [[3, 7],\n",
       "        [4, 8],\n",
       "        [6, 7]]])"
      ]
     },
     "execution_count": 84,
     "metadata": {},
     "output_type": "execute_result"
    }
   ],
   "source": [
    "#66 - dstack()\n",
    "a = np.array([[1,2,5],[3,4,6]])                   # shapes of a and b can only differ in the 3rd dimension (if present)\n",
    "b = np.array([[5,6,3],[7,8,7]])\n",
    "np.dstack((a,b))                          # stack arrays along a third axis (depth wise)"
   ]
  },
  {
   "cell_type": "markdown",
   "id": "bb818335",
   "metadata": {},
   "source": [
    "* stack or arrange the given arrays in a sequence depth wise (that is, along the third axis), thereby creating an array of at least 3-D ."
   ]
  },
  {
   "cell_type": "code",
   "execution_count": 85,
   "id": "4e5d1180",
   "metadata": {},
   "outputs": [
    {
     "data": {
      "text/plain": [
       "dtype([('f1', '<i8')])"
      ]
     },
     "execution_count": 85,
     "metadata": {},
     "output_type": "execute_result"
    }
   ],
   "source": [
    "#67 - dtype()\n",
    "np.dtype('int16')                              # using array-scalar type\n",
    "np.dtype([('f1', 'int64')])                    # record, 1 field named 'f1', containing int16"
   ]
  },
  {
   "cell_type": "markdown",
   "id": "f740a694",
   "metadata": {},
   "source": [
    "* This means it gives us information about: Type of the data (integer, float, Python object, etc.) Size of the data (number of bytes)"
   ]
  },
  {
   "cell_type": "code",
   "execution_count": 86,
   "id": "e8918aae",
   "metadata": {},
   "outputs": [
    {
     "name": "stdout",
     "output_type": "stream",
     "text": [
      "[0. 0. 0.]\n"
     ]
    },
    {
     "data": {
      "text/plain": [
       "array([[0, 0, 0],\n",
       "       [0, 0, 0]])"
      ]
     },
     "execution_count": 86,
     "metadata": {},
     "output_type": "execute_result"
    }
   ],
   "source": [
    "#68 - empty()\n",
    "print(np.empty(3))                                       # uninitialized array, size=3, dtype = float\n",
    "np.empty((2,3),int)                                 # uninitialized array, dtype = int"
   ]
  },
  {
   "cell_type": "markdown",
   "id": "2abe96c6",
   "metadata": {},
   "source": [
    "* return new array of a given shape and type. It has random values and uninitialized entries."
   ]
  },
  {
   "cell_type": "code",
   "execution_count": 87,
   "id": "6e782e47",
   "metadata": {},
   "outputs": [
    {
     "data": {
      "text/plain": [
       "array([[0.00e+000, 3.46e-323, 6.92e-323],\n",
       "       [1.04e-322, 1.38e-322, 1.73e-322]])"
      ]
     },
     "execution_count": 87,
     "metadata": {},
     "output_type": "execute_result"
    }
   ],
   "source": [
    "#68 - empty_like\n",
    "a = np.array([[1,2,3],[4,5,6]])\n",
    "np.empty_like(a,float)                              # uninitialized array with the same shape and datatype as 'a'"
   ]
  },
  {
   "cell_type": "markdown",
   "id": "83f818ae",
   "metadata": {},
   "source": [
    "* Return a new array with the same shape and type as a given array. It has random values and uninitialized entries.\n"
   ]
  },
  {
   "cell_type": "code",
   "execution_count": 88,
   "id": "18271efb",
   "metadata": {},
   "outputs": [
    {
     "data": {
      "text/plain": [
       "array([[[1, 2],\n",
       "        [3, 4]]])"
      ]
     },
     "execution_count": 88,
     "metadata": {},
     "output_type": "execute_result"
    }
   ],
   "source": [
    "#69 - expand_dims\n",
    "x = np.array([[1,2],[3,4]])\n",
    "np.expand_dims(x,axis=0)                       # Equivalent to x[newaxis,:] or x[None] or x[newaxis]\n"
   ]
  },
  {
   "cell_type": "code",
   "execution_count": 89,
   "id": "b59a39f1",
   "metadata": {},
   "outputs": [
    {
     "data": {
      "text/plain": [
       "array([[[1, 2]],\n",
       "\n",
       "       [[3, 4]]])"
      ]
     },
     "execution_count": 89,
     "metadata": {},
     "output_type": "execute_result"
    }
   ],
   "source": [
    "np.expand_dims(x,axis=1)"
   ]
  },
  {
   "cell_type": "markdown",
   "id": "c36f2a16",
   "metadata": {},
   "source": [
    "* expands the dimension of the array with number as axis. eg: [1,2],[3,4]----2 axis hence 2d"
   ]
  },
  {
   "cell_type": "code",
   "execution_count": 90,
   "id": "c4da2411",
   "metadata": {},
   "outputs": [
    {
     "data": {
      "text/plain": [
       "array([[1., 0., 0., 0.],\n",
       "       [0., 1., 0., 0.],\n",
       "       [0., 0., 1., 0.]])"
      ]
     },
     "execution_count": 90,
     "metadata": {},
     "output_type": "execute_result"
    }
   ],
   "source": [
    "#69 - eye\n",
    "np.eye(3,4,0,dtype=float)                         # a 3x4 matrix containing zeros except for the 0th diagonal that contains ones"
   ]
  },
  {
   "cell_type": "code",
   "execution_count": 91,
   "id": "2a97a635",
   "metadata": {},
   "outputs": [
    {
     "data": {
      "text/plain": [
       "array([[0., 1., 0., 0.],\n",
       "       [0., 0., 1., 0.],\n",
       "       [0., 0., 0., 1.]])"
      ]
     },
     "execution_count": 91,
     "metadata": {},
     "output_type": "execute_result"
    }
   ],
   "source": [
    "np.eye(3,4,1,dtype=float)          "
   ]
  },
  {
   "cell_type": "markdown",
   "id": "f90bacf7",
   "metadata": {},
   "source": [
    "* Return a 2-D array with ones on the diagonal and zeros elsewhere."
   ]
  },
  {
   "cell_type": "code",
   "execution_count": 92,
   "id": "78666613",
   "metadata": {},
   "outputs": [
    {
     "data": {
      "text/plain": [
       "array([ 13.         +0.j        ,   3.36396103 +4.05025253j,\n",
       "         2.         +1.j        ,  -9.36396103-13.94974747j,\n",
       "       -21.         +0.j        ,  -9.36396103+13.94974747j,\n",
       "         2.         -1.j        ,   3.36396103 -4.05025253j])"
      ]
     },
     "execution_count": 92,
     "metadata": {},
     "output_type": "execute_result"
    }
   ],
   "source": [
    "#70 - fft\n",
    "\n",
    "signal = np.array([-2., 8., -6., 4., 1., 0., 3., 5.])                        # could also be complex\n",
    "fourier = np.fft.fft(signal)\n",
    "fourier"
   ]
  },
  {
   "cell_type": "markdown",
   "id": "5200f391",
   "metadata": {},
   "source": [
    "* Compute the one-dimensional discrete Fourier Transform."
   ]
  },
  {
   "cell_type": "code",
   "execution_count": 93,
   "id": "76a2180c",
   "metadata": {},
   "outputs": [
    {
     "data": {
      "text/plain": [
       "array([ 0.  ,  1.25,  2.5 ,  3.75, -5.  , -3.75, -2.5 , -1.25])"
      ]
     },
     "execution_count": 93,
     "metadata": {},
     "output_type": "execute_result"
    }
   ],
   "source": [
    "#71 - fftfreq\n",
    "signal = np.array([-2., 8., -6., 4., 1., 0., 3., 5.])\n",
    "fourier = np.fft.fft(signal)\n",
    "N = len(signal)\n",
    "timestep = 0.1                                  # if unit=day -> freq unit=cycles/day\n",
    "freq = np.fft.fftfreq(N, d=timestep)                   # freqs corresponding to 'fourier'\n",
    "freq\n"
   ]
  },
  {
   "cell_type": "markdown",
   "id": "bdab8d04",
   "metadata": {},
   "source": [
    "* The returned float array f contains the frequency bin centers in cycles per unit of the sample spacing (with zero at the start)"
   ]
  },
  {
   "cell_type": "code",
   "execution_count": 94,
   "id": "a4a067c7",
   "metadata": {},
   "outputs": [
    {
     "data": {
      "text/plain": [
       "array([-5.  , -3.75, -2.5 , -1.25,  0.  ,  1.25,  2.5 ,  3.75])"
      ]
     },
     "execution_count": 94,
     "metadata": {},
     "output_type": "execute_result"
    }
   ],
   "source": [
    "#72 - fftfreq\n",
    "freq = np.fft.fftshift(freq)                       # freqs in ascending order\n",
    "freq"
   ]
  },
  {
   "cell_type": "markdown",
   "id": "53f6a4ba",
   "metadata": {},
   "source": [
    "* Shift the zero-frequency component to the center of the spectrum"
   ]
  },
  {
   "cell_type": "code",
   "execution_count": 95,
   "id": "34618c33",
   "metadata": {},
   "outputs": [
    {
     "name": "stdout",
     "output_type": "stream",
     "text": [
      "[0. 1. 2. 3.]\n",
      "[7. 7. 7. 7.]\n"
     ]
    },
    {
     "data": {
      "text/plain": [
       "array([6.5, 6.5, 6.5, 6.5])"
      ]
     },
     "execution_count": 95,
     "metadata": {},
     "output_type": "execute_result"
    }
   ],
   "source": [
    "#73 - fill\n",
    "a = np.arange(4, dtype=float)\n",
    "print(a)\n",
    "    \n",
    "a.fill(7)                             # replace all elements with the number 7\n",
    "print(a)\n",
    "\n",
    "a.fill(6.5)                          # fill value is converted to dtype of a\n",
    "a"
   ]
  },
  {
   "cell_type": "markdown",
   "id": "2f9184ab",
   "metadata": {},
   "source": [
    "* fill the array with the given value and dtype"
   ]
  },
  {
   "cell_type": "code",
   "execution_count": 96,
   "id": "83078167",
   "metadata": {},
   "outputs": [
    {
     "data": {
      "text/plain": [
       "(52, 11)"
      ]
     },
     "execution_count": 96,
     "metadata": {},
     "output_type": "execute_result"
    }
   ],
   "source": [
    "#74 - finfo\n",
    "f = np.finfo(float)                          # the numbers given are machine dependent\n",
    "f.nmant, f.nexp                           # nr of bits in the mantissa and in the exponent"
   ]
  },
  {
   "cell_type": "markdown",
   "id": "3ee17793",
   "metadata": {},
   "source": [
    "* Machine limits for floating point types."
   ]
  },
  {
   "cell_type": "code",
   "execution_count": 97,
   "id": "108c2442",
   "metadata": {},
   "outputs": [
    {
     "data": {
      "text/plain": [
       "array([-1., -1., -0.,  0.,  1.,  1., 99.])"
      ]
     },
     "execution_count": 97,
     "metadata": {},
     "output_type": "execute_result"
    }
   ],
   "source": [
    "#75 - fix\n",
    "a = np.array([-1.7, -1.5, -0.2, 0.2, 1.5, 1.7,99.6])\n",
    "np.fix(a)                                                  # round a to nearest integer towards zero"
   ]
  },
  {
   "cell_type": "markdown",
   "id": "84b4f977",
   "metadata": {},
   "source": [
    "* round a to nearest integer towards zero"
   ]
  },
  {
   "cell_type": "code",
   "execution_count": 98,
   "id": "b0e89c0e",
   "metadata": {},
   "outputs": [
    {
     "ename": "TypeError",
     "evalue": "'numpy.flatiter' object is not callable",
     "output_type": "error",
     "traceback": [
      "\u001b[1;31m---------------------------------------------------------------------------\u001b[0m",
      "\u001b[1;31mTypeError\u001b[0m                                 Traceback (most recent call last)",
      "Input \u001b[1;32mIn [98]\u001b[0m, in \u001b[0;36m<cell line: 3>\u001b[1;34m()\u001b[0m\n\u001b[0;32m      1\u001b[0m \u001b[38;5;66;03m#76 - flat\u001b[39;00m\n\u001b[0;32m      2\u001b[0m a \u001b[38;5;241m=\u001b[39m np\u001b[38;5;241m.\u001b[39marray([[\u001b[38;5;241m10\u001b[39m,\u001b[38;5;241m30\u001b[39m],[\u001b[38;5;241m40\u001b[39m,\u001b[38;5;241m60\u001b[39m]])\n\u001b[1;32m----> 3\u001b[0m \u001b[38;5;28miter\u001b[39m \u001b[38;5;241m=\u001b[39m \u001b[43ma\u001b[49m\u001b[38;5;241;43m.\u001b[39;49m\u001b[43mflat\u001b[49m\u001b[43m(\u001b[49m\u001b[43m)\u001b[49m                            \u001b[38;5;66;03m# .flat returns an iterator\u001b[39;00m\n\u001b[0;32m      4\u001b[0m np\u001b[38;5;241m.\u001b[39miter\u001b[38;5;241m.\u001b[39mnext(a)\n",
      "\u001b[1;31mTypeError\u001b[0m: 'numpy.flatiter' object is not callable"
     ]
    }
   ],
   "source": [
    "#76 - flat\n",
    "a = np.array([[10,30],[40,60]])\n",
    "iter = a.flat()                            # .flat returns an iterator\n",
    "np.iter.next(a)                               # cycle through array with .next()"
   ]
  },
  {
   "cell_type": "markdown",
   "id": "4bbf1a9e",
   "metadata": {},
   "source": [
    "* used as a 1_D iterator over N-dimensional arrays. It is not a subclass "
   ]
  },
  {
   "cell_type": "code",
   "execution_count": 106,
   "id": "4baf77b1",
   "metadata": {},
   "outputs": [
    {
     "name": "stdout",
     "output_type": "stream",
     "text": [
      "[[[1 2]]\n",
      "\n",
      " [[3 4]]]\n",
      "[1 2 3 4]\n"
     ]
    }
   ],
   "source": [
    "#77 - flatten\n",
    "a = np.array([[[1,2]],[[3,4]]])\n",
    "print(a)\n",
    "\n",
    "b = a.flatten()                       # b is now a 1-d version of a, a new array, not a reference\n",
    "print(b)"
   ]
  },
  {
   "cell_type": "markdown",
   "id": "3ff99e6d",
   "metadata": {},
   "source": [
    "* Return a copy of the array converts into one dimension."
   ]
  },
  {
   "cell_type": "code",
   "execution_count": 107,
   "id": "a6dc67d6",
   "metadata": {},
   "outputs": [
    {
     "name": "stdout",
     "output_type": "stream",
     "text": [
      "[[ 0  1  2]\n",
      " [ 3  4  5]\n",
      " [ 6  7  8]\n",
      " [ 9 10 11]]\n"
     ]
    },
    {
     "data": {
      "text/plain": [
       "array([[ 2,  1,  0],\n",
       "       [ 5,  4,  3],\n",
       "       [ 8,  7,  6],\n",
       "       [11, 10,  9]])"
      ]
     },
     "execution_count": 107,
     "metadata": {},
     "output_type": "execute_result"
    }
   ],
   "source": [
    "#78 - fliplr\n",
    "a = np.arange(12).reshape(4,3)\n",
    "print(a)\n",
    "\n",
    "np.fliplr(a)                                    # flip left-right"
   ]
  },
  {
   "cell_type": "markdown",
   "id": "f9734dbb",
   "metadata": {},
   "source": [
    "* flip the element left-right along axis=1"
   ]
  },
  {
   "cell_type": "code",
   "execution_count": 108,
   "id": "268d71dc",
   "metadata": {},
   "outputs": [
    {
     "name": "stdout",
     "output_type": "stream",
     "text": [
      "[[ 0  1  2]\n",
      " [ 3  4  5]\n",
      " [ 6  7  8]\n",
      " [ 9 10 11]]\n"
     ]
    },
    {
     "data": {
      "text/plain": [
       "array([[ 9, 10, 11],\n",
       "       [ 6,  7,  8],\n",
       "       [ 3,  4,  5],\n",
       "       [ 0,  1,  2]])"
      ]
     },
     "execution_count": 108,
     "metadata": {},
     "output_type": "execute_result"
    }
   ],
   "source": [
    "#79 - flipud\n",
    "a = np.arange(12).reshape(4,3)\n",
    "print(a)\n",
    "\n",
    "np.flipud(a)                                    # flip up-down"
   ]
  },
  {
   "cell_type": "markdown",
   "id": "d07e530d",
   "metadata": {},
   "source": [
    "* flip the element up-down along axis=0"
   ]
  },
  {
   "cell_type": "code",
   "execution_count": 109,
   "id": "448c91cb",
   "metadata": {},
   "outputs": [
    {
     "data": {
      "text/plain": [
       "array([-2., -2., -1.,  0.,  1.,  1.])"
      ]
     },
     "execution_count": 109,
     "metadata": {},
     "output_type": "execute_result"
    }
   ],
   "source": [
    "#80 - floor\n",
    "a = np.array([-1.7, -1.5, -0.2, 0.2, 1.5, 1.7])\n",
    "np.floor(a)                                      # nearest integer smaller-than or equal to a"
   ]
  },
  {
   "cell_type": "markdown",
   "id": "fcf2fc67",
   "metadata": {},
   "source": [
    "* nearest integer smaller-than or equal to a"
   ]
  },
  {
   "cell_type": "code",
   "execution_count": 110,
   "id": "4930563d",
   "metadata": {},
   "outputs": [
    {
     "data": {
      "text/plain": [
       "('Johnson', b'F', 25)"
      ]
     },
     "execution_count": 110,
     "metadata": {},
     "output_type": "execute_result"
    }
   ],
   "source": [
    "#81 - fromarrays\n",
    "x = np.array(['Smith','Johnson','McDonald'])                        # datatype is string\n",
    "y = np.array(['F','F','M'], dtype='S1')                             # datatype is a single character\n",
    "z = np.array([20,25,23])                                            # datatype is integer\n",
    "data = np.rec.fromarrays([x,y,z], names='surname, gender, age')        # convert to record array\n",
    "data[1]"
   ]
  },
  {
   "cell_type": "markdown",
   "id": "a5ab4314",
   "metadata": {},
   "source": [
    "* Create a record array from a (flat) list of arrays"
   ]
  },
  {
   "cell_type": "code",
   "execution_count": 111,
   "id": "2bf51c46",
   "metadata": {},
   "outputs": [
    {
     "data": {
      "text/plain": [
       "array([  0,   0,   0,   0,   0,   0, 240,  63,   0,   0,   0,   0,   0,\n",
       "         0,   0,  64,   0,   0,   0,   0,   0,   0,   8,  64,   0,   0,\n",
       "         0,   0,   0,   0,  16,  64], dtype=uint8)"
      ]
     },
     "execution_count": 111,
     "metadata": {},
     "output_type": "execute_result"
    }
   ],
   "source": [
    "#82 - frombuffer\n",
    "buffer = b\"\\x00\\x00\\x00\\x00\\x00\\x00\\xf0?\\x00\\x00\\x00\\x00\\x00\\x00\\x00@\\x00\\x00\\x00\\x00\\x00\\x00\\x08\\\n",
    "          @\\x00\\x00\\x00\\x00\\x00\\x00\\x10@\\x00\\x00\\x00\\x00\\x00\\x00\\x14@\\x00\\x00\\x00\\x00\\x00\\x00\\x18@\"\n",
    "#A=buffer.encode()\n",
    "a = np.frombuffer(A, dtype = np.uint8)\n",
    "a"
   ]
  },
  {
   "cell_type": "code",
   "execution_count": 112,
   "id": "f20701cc",
   "metadata": {},
   "outputs": [
    {
     "data": {
      "text/plain": [
       "array([2., 4., 6., 8.])"
      ]
     },
     "execution_count": 112,
     "metadata": {},
     "output_type": "execute_result"
    }
   ],
   "source": [
    "#83 - fromfile\n",
    "y = np.array([2.,4.,6.,8.])\n",
    "y.tofile(\"myfile.dat\")                                     # binary format\n",
    "y.tofile(\"myfile.txt\", sep='\\n', format = \"%e\")            # ascii format, one column, exponential notation\n",
    "np.fromfile('myfile.dat', dtype=float)"
   ]
  },
  {
   "cell_type": "markdown",
   "id": "26c7709e",
   "metadata": {},
   "source": [
    "* tofile-allows you to save an array to a text or binary file. \n",
    "* fromfile-This will discuss saving and reading a NumPy array to and from a binary file."
   ]
  },
  {
   "cell_type": "code",
   "execution_count": 113,
   "id": "1369cab6",
   "metadata": {},
   "outputs": [
    {
     "data": {
      "text/plain": [
       "array([[0., 1., 4.],\n",
       "       [1., 2., 5.],\n",
       "       [4., 5., 8.]])"
      ]
     },
     "execution_count": 113,
     "metadata": {},
     "output_type": "execute_result"
    }
   ],
   "source": [
    "#84 - fromfunction\n",
    "def f(i,j):\n",
    "    return i**2 + j**2\n",
    "np.fromfunction(f, (3,3))                    # evaluate functiom for all combinations of indices [0,1,2]x[0,1,2]"
   ]
  },
  {
   "cell_type": "markdown",
   "id": "d5646e66",
   "metadata": {},
   "source": [
    "* constructs an array by executing a function over each coordinate."
   ]
  },
  {
   "cell_type": "code",
   "execution_count": 114,
   "id": "949e6ac0",
   "metadata": {},
   "outputs": [
    {
     "name": "stdout",
     "output_type": "stream",
     "text": [
      "True\n"
     ]
    },
    {
     "data": {
      "text/plain": [
       "False"
      ]
     },
     "execution_count": 114,
     "metadata": {},
     "output_type": "execute_result"
    }
   ],
   "source": [
    "#95 - generic\n",
    "numpyscalar = np.string_('7')                    # Convert to numpy scalar\n",
    "numpyscalar                                    # Looks like a build-in scalar...\n",
    "\n",
    "type(numpyscalar)                             # ... but it isn't\n",
    "\n",
    "buildinscalar = '7'                              # Build-in python scalar\n",
    "type(buildinscalar)\n",
    "\n",
    "print(isinstance(numpyscalar, np.generic))              # Check if scalar is a NumPy one\n",
    "            \n",
    "isinstance(buildinscalar, np.generic)                      # Example on how to recognize NumPy scalars\n"
   ]
  },
  {
   "cell_type": "code",
   "execution_count": 115,
   "id": "54f1ed3f",
   "metadata": {},
   "outputs": [
    {
     "data": {
      "text/plain": [
       "array([[-0.26261687,  1.64019647,  0.28423643],\n",
       "       [ 0.688672  ,  1.6799589 , -0.53089902]])"
      ]
     },
     "execution_count": 115,
     "metadata": {},
     "output_type": "execute_result"
    }
   ],
   "source": [
    "#96 - gumbel\n",
    "np.random.gumbel(loc=0.0,scale=1.0,size=(2,3))                 # Gumbel distribution location=0.0, scale=1.0"
   ]
  },
  {
   "cell_type": "markdown",
   "id": "b1b9a92e",
   "metadata": {},
   "source": [
    "* Draw samples from a Gumbel distribution with specified location and scale.\n",
    "* the Gumbel distribution is used to analyze such variables as monthly and annual maximum values of daily rainfall and river discharge volumes, and also to describe droughts.\n",
    "* location parameter and scale parameter. The case where location = 0 and scale = 1 is called the standard Gumbel distribution."
   ]
  },
  {
   "cell_type": "code",
   "execution_count": 116,
   "id": "39a78a3e",
   "metadata": {},
   "outputs": [
    {
     "data": {
      "text/plain": [
       "(array([2, 3, 1, 4], dtype=int64), array([ 0. ,  1. ,  2.5,  4. , 10. ]))"
      ]
     },
     "execution_count": 116,
     "metadata": {},
     "output_type": "execute_result"
    }
   ],
   "source": [
    "#97 - histogram\n",
    "x = np.array([0.2, 6.4, 3.0, 1.6, 0.9, 2.3, 1.6, 5.7, 8.5, 4.0, 12.8])\n",
    "bins = np.array([0.0, 1.0, 2.5, 4.0, 10.0])                                # increasing monotonically\n",
    "N,bins = np.histogram(x,bins)\n",
    "N,bins\n"
   ]
  },
  {
   "cell_type": "markdown",
   "id": "1c76501f",
   "metadata": {},
   "source": [
    "* The Numpy histogram function is similar to the hist() function of matplotlib library, the only difference is that the Numpy histogram gives the numerical representation of the dataset while the hist() gives graphical representation of the dataset.\n",
    "*  function which represents the frequency of data distribution in the graphical form."
   ]
  },
  {
   "cell_type": "code",
   "execution_count": 117,
   "id": "4a83c269",
   "metadata": {},
   "outputs": [
    {
     "data": {
      "text/plain": [
       "[array([[1, 2],\n",
       "        [5, 6]]),\n",
       " array([[3, 4],\n",
       "        [7, 8]])]"
      ]
     },
     "execution_count": 117,
     "metadata": {},
     "output_type": "execute_result"
    }
   ],
   "source": [
    "#98 - hsplit\n",
    "a = np.array([[1,2,3,4],[5,6,7,8]])\n",
    "np.hsplit(a,2)                                     # split, column-wise, in 2 equal parts"
   ]
  },
  {
   "cell_type": "code",
   "execution_count": 118,
   "id": "a5bbfc15",
   "metadata": {},
   "outputs": [
    {
     "data": {
      "text/plain": [
       "array([[1, 3, 4, 1],\n",
       "       [2, 5, 6, 2]])"
      ]
     },
     "execution_count": 118,
     "metadata": {},
     "output_type": "execute_result"
    }
   ],
   "source": [
    "#99 - hstack\n",
    "a =np.array([[1],[2]])                      # 2x1 array\n",
    "b = np.array([[3,4],[5,6]])                 # 2x2 array\n",
    "np.hstack((a,b,a))                          # only the 2nd dimension of the arrays is allowed to be different"
   ]
  },
  {
   "cell_type": "markdown",
   "id": "ebc34fc6",
   "metadata": {},
   "source": [
    "* function is used to stack the sequence of input arrays horizontally (i.e. column wise) to make a single array.\n"
   ]
  },
  {
   "cell_type": "code",
   "execution_count": 119,
   "id": "17e303be",
   "metadata": {},
   "outputs": [
    {
     "data": {
      "text/plain": [
       "5.0"
      ]
     },
     "execution_count": 119,
     "metadata": {},
     "output_type": "execute_result"
    }
   ],
   "source": [
    "#100 - hypot\n",
    "np.hypot(3.,4.)                    # hypotenuse: sqrt(3**2 + 4**2) = 5"
   ]
  },
  {
   "cell_type": "code",
   "execution_count": 120,
   "id": "1a74ff49",
   "metadata": {},
   "outputs": [
    {
     "data": {
      "text/plain": [
       "array([3.60555128, 5.        ])"
      ]
     },
     "execution_count": 120,
     "metadata": {},
     "output_type": "execute_result"
    }
   ],
   "source": [
    "z = np.array([2+3j, 3+4j])\n",
    "np.hypot(z.real, z.imag)                        # norm of complex numbers"
   ]
  },
  {
   "cell_type": "markdown",
   "id": "71145613",
   "metadata": {},
   "source": [
    "* sqrt(x1 ** 2 + x2 ** 2)``, element-wise\n"
   ]
  },
  {
   "cell_type": "code",
   "execution_count": null,
   "id": "9a3818e7",
   "metadata": {},
   "outputs": [],
   "source": []
  },
  {
   "cell_type": "code",
   "execution_count": null,
   "id": "76e02982",
   "metadata": {},
   "outputs": [],
   "source": []
  },
  {
   "cell_type": "code",
   "execution_count": null,
   "id": "4ef0e0f9",
   "metadata": {},
   "outputs": [],
   "source": []
  }
 ],
 "metadata": {
  "kernelspec": {
   "display_name": "Python 3 (ipykernel)",
   "language": "python",
   "name": "python3"
  },
  "language_info": {
   "codemirror_mode": {
    "name": "ipython",
    "version": 3
   },
   "file_extension": ".py",
   "mimetype": "text/x-python",
   "name": "python",
   "nbconvert_exporter": "python",
   "pygments_lexer": "ipython3",
   "version": "3.9.12"
  }
 },
 "nbformat": 4,
 "nbformat_minor": 5
}
